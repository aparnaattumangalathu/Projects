{
  "nbformat": 4,
  "nbformat_minor": 0,
  "metadata": {
    "colab": {
      "provenance": [],
      "gpuType": "T4",
      "authorship_tag": "ABX9TyPARbyOax3ylSTSXgqUJ1/B",
      "include_colab_link": true
    },
    "kernelspec": {
      "name": "python3",
      "display_name": "Python 3"
    },
    "language_info": {
      "name": "python"
    },
    "accelerator": "GPU"
  },
  "cells": [
    {
      "cell_type": "markdown",
      "metadata": {
        "id": "view-in-github",
        "colab_type": "text"
      },
      "source": [
        "<a href=\"https://colab.research.google.com/github/aparnaattumangalathu/Projects/blob/main/Sentiment_Analysis_on_Movie_Reviews.ipynb\" target=\"_parent\"><img src=\"https://colab.research.google.com/assets/colab-badge.svg\" alt=\"Open In Colab\"/></a>"
      ]
    },
    {
      "cell_type": "code",
      "execution_count": 1,
      "metadata": {
        "id": "ZpHcdbhfilN5"
      },
      "outputs": [],
      "source": [
        "import pandas as pd\n",
        "import numpy as np\n",
        "import matplotlib.pyplot as plt\n",
        "%matplotlib inline\n",
        "import seaborn as sns"
      ]
    },
    {
      "cell_type": "code",
      "source": [
        "df=pd.read_csv('labeledTrainData.tsv',sep='\\t')"
      ],
      "metadata": {
        "id": "zdYai79bjqye"
      },
      "execution_count": 2,
      "outputs": []
    },
    {
      "cell_type": "code",
      "source": [
        "# Set the option to display the full text content of DataFrame columns\n",
        "\n",
        "pd.set_option('display.max_colwidth',None)\n",
        "df.head()\n"
      ],
      "metadata": {
        "colab": {
          "base_uri": "https://localhost:8080/",
          "height": 1000
        },
        "id": "cZTFqrYYjq-p",
        "outputId": "a189c050-3d0f-4aae-e0b3-6a50b992c748"
      },
      "execution_count": 3,
      "outputs": [
        {
          "output_type": "execute_result",
          "data": {
            "text/plain": [
              "       id  sentiment  \\\n",
              "0  5814_8          1   \n",
              "1  2381_9          1   \n",
              "2  7759_3          0   \n",
              "3  3630_4          0   \n",
              "4  9495_8          1   \n",
              "\n",
              "                                                                                                                                                                                                                                                                                                                                                                                                                                                                                                                                                                                                                                                                                                                                                                                                                                                                                                                                                                                                                                                                                                                                                                                                                                                                                                                                                                                                                                                                                                                                                                                                                                                                                                                                                                                                                                                                                                                                                                                                                                                                                                                                                                                                                                                                                                                                                                                                                                                                                                                                              review  \n",
              "0                                                                                                                                                     With all this stuff going down at the moment with MJ i've started listening to his music, watching the odd documentary here and there, watched The Wiz and watched Moonwalker again. Maybe i just want to get a certain insight into this guy who i thought was really cool in the eighties just to maybe make up my mind whether he is guilty or innocent. Moonwalker is part biography, part feature film which i remember going to see at the cinema when it was originally released. Some of it has subtle messages about MJ's feeling towards the press and also the obvious message of drugs are bad m'kay.<br /><br />Visually impressive but of course this is all about Michael Jackson so unless you remotely like MJ in anyway then you are going to hate this and find it boring. Some may call MJ an egotist for consenting to the making of this movie BUT MJ and most of his fans would say that he made it for the fans which if true is really nice of him.<br /><br />The actual feature film bit when it finally starts is only on for 20 minutes or so excluding the Smooth Criminal sequence and Joe Pesci is convincing as a psychopathic all powerful drug lord. Why he wants MJ dead so bad is beyond me. Because MJ overheard his plans? Nah, Joe Pesci's character ranted that he wanted people to know it is he who is supplying drugs etc so i dunno, maybe he just hates MJ's music.<br /><br />Lots of cool things in this like MJ turning into a car and a robot and the whole Speed Demon sequence. Also, the director must have had the patience of a saint when it came to filming the kiddy Bad sequence as usually directors hate working with one kid let alone a whole bunch of them performing a complex dance scene.<br /><br />Bottom line, this movie is for people who like MJ on one level or another (which i think is most people). If not, then stay away. It does try and give off a wholesome message and ironically MJ's bestest buddy in this movie is a girl! Michael Jackson is truly one of the most talented people ever to grace this planet but is he guilty? Well, with all the attention i've gave this subject....hmmm well i don't know because people can be different behind closed doors, i know this for a fact. He is either an extremely nice but stupid guy or one of the most sickest liars. I hope he is not the latter.  \n",
              "1                                                                                                                                                                                                                                                                                                                                                                                                                                                                                                                                                                                                                                                                                                                                                                                                                                                                                                                                                                                                                                                                                                                                                                                                                                                                                                                                                                                                                                                                                                                                                                 \\The Classic War of the Worlds\\\" by Timothy Hines is a very entertaining film that obviously goes to great effort and lengths to faithfully recreate H. G. Wells' classic book. Mr. Hines succeeds in doing so. I, and those who watched his film with me, appreciated the fact that it was not the standard, predictable Hollywood fare that comes out every year, e.g. the Spielberg version with Tom Cruise that had only the slightest resemblance to the book. Obviously, everyone looks for different things in a movie. Those who envision themselves as amateur \\\"critics\\\" look only to criticize everything they can. Others rate a movie on more important bases,like being entertained, which is why most people never agree with the \\\"critics\\\". We enjoyed the effort Mr. Hines put into being faithful to H.G. Wells' classic novel, and we found it to be very entertaining. This made it easy to overlook what the \\\"critics\\\" perceive to be its shortcomings.\"  \n",
              "2  The film starts with a manager (Nicholas Bell) giving welcome investors (Robert Carradine) to Primal Park . A secret project mutating a primal animal using fossilized DNA, like ¨Jurassik Park¨, and some scientists resurrect one of nature's most fearsome predators, the Sabretooth tiger or Smilodon . Scientific ambition turns deadly, however, and when the high voltage fence is opened the creature escape and begins savagely stalking its prey - the human visitors , tourists and scientific.Meanwhile some youngsters enter in the restricted area of the security center and are attacked by a pack of large pre-historical animals which are deadlier and bigger . In addition , a security agent (Stacy Haiduk) and her mate (Brian Wimmer) fight hardly against the carnivorous Smilodons. The Sabretooths, themselves , of course, are the real star stars and they are astounding terrifyingly though not convincing. The giant animals savagely are stalking its prey and the group run afoul and fight against one nature's most fearsome predators. Furthermore a third Sabretooth more dangerous and slow stalks its victims.<br /><br />The movie delivers the goods with lots of blood and gore as beheading, hair-raising chills,full of scares when the Sabretooths appear with mediocre special effects.The story provides exciting and stirring entertainment but it results to be quite boring .The giant animals are majority made by computer generator and seem totally lousy .Middling performances though the players reacting appropriately to becoming food.Actors give vigorously physical performances dodging the beasts ,running,bound and leaps or dangling over walls . And it packs a ridiculous final deadly scene. No for small kids by realistic,gory and violent attack scenes . Other films about Sabretooths or Smilodon are the following : ¨Sabretooth(2002)¨by James R Hickox with Vanessa Angel, David Keith and John Rhys Davies and the much better ¨10.000 BC(2006)¨ by Roland Emmerich with with Steven Strait, Cliff Curtis and Camilla Belle. This motion picture filled with bloody moments is badly directed by George Miller and with no originality because takes too many elements from previous films. Miller is an Australian director usually working for television (Tidal wave, Journey to the center of the earth, and many others) and occasionally for cinema ( The man from Snowy river, Zeus and Roxanne,Robinson Crusoe ). Rating : Below average, bottom of barrel.  \n",
              "3                                                                                                                                                                                                              It must be assumed that those who praised this film (\\the greatest filmed opera ever,\\\" didn't I read somewhere?) either don't care for opera, don't care for Wagner, or don't care about anything except their desire to appear Cultured. Either as a representation of Wagner's swan-song, or as a movie, this strikes me as an unmitigated disaster, with a leaden reading of the score matched to a tricksy, lugubrious realisation of the text.<br /><br />It's questionable that people with ideas as to what an opera (or, for that matter, a play, especially one by Shakespeare) is \\\"about\\\" should be allowed anywhere near a theatre or film studio; Syberberg, very fashionably, but without the smallest justification from Wagner's text, decided that Parsifal is \\\"about\\\" bisexual integration, so that the title character, in the latter stages, transmutes into a kind of beatnik babe, though one who continues to sing high tenor -- few if any of the actors in the film are the singers, and we get a double dose of Armin Jordan, the conductor, who is seen as the face (but not heard as the voice) of Amfortas, and also appears monstrously in double exposure as a kind of Batonzilla or Conductor Who Ate Monsalvat during the playing of the Good Friday music -- in which, by the way, the transcendant loveliness of nature is represented by a scattering of shopworn and flaccid crocuses stuck in ill-laid turf, an expedient which baffles me. In the theatre we sometimes have to piece out such imperfections with our thoughts, but I can't think why Syberberg couldn't splice in, for Parsifal and Gurnemanz, mountain pasture as lush as was provided for Julie Andrews in Sound of Music...<br /><br />The sound is hard to endure, the high voices and the trumpets in particular possessing an aural glare that adds another sort of fatigue to our impatience with the uninspired conducting and paralytic unfolding of the ritual. Someone in another review mentioned the 1951 Bayreuth recording, and Knappertsbusch, though his tempi are often very slow, had what Jordan altogether lacks, a sense of pulse, a feeling for the ebb and flow of the music -- and, after half a century, the orchestral sound in that set, in modern pressings, is still superior to this film.\"  \n",
              "4                                                                                                                                                                                                                            Superbly trashy and wondrously unpretentious 80's exploitation, hooray! The pre-credits opening sequences somewhat give the false impression that we're dealing with a serious and harrowing drama, but you need not fear because barely ten minutes later we're up until our necks in nonsensical chainsaw battles, rough fist-fights, lurid dialogs and gratuitous nudity! Bo and Ingrid are two orphaned siblings with an unusually close and even slightly perverted relationship. Can you imagine playfully ripping off the towel that covers your sister's naked body and then stare at her unshaven genitals for several whole minutes? Well, Bo does that to his sister and, judging by her dubbed laughter, she doesn't mind at all. Sick, dude! Anyway, as kids they fled from Russia with their parents, but nasty soldiers brutally slaughtered mommy and daddy. A friendly smuggler took custody over them, however, and even raised and trained Bo and Ingrid into expert smugglers. When the actual plot lifts off, 20 years later, they're facing their ultimate quest as the mythical and incredibly valuable White Fire diamond is coincidentally found in a mine. Very few things in life ever made as little sense as the plot and narrative structure of \\White Fire\\\", but it sure is a lot of fun to watch. Most of the time you have no clue who's beating up who or for what cause (and I bet the actors understood even less) but whatever! The violence is magnificently grotesque and every single plot twist is pleasingly retarded. The script goes totally bonkers beyond repair when suddenly  and I won't reveal for what reason  Bo needs a replacement for Ingrid and Fred Williamson enters the scene with a big cigar in his mouth and his sleazy black fingers all over the local prostitutes. Bo's principal opponent is an Italian chick with big breasts but a hideous accent, the preposterous but catchy theme song plays at least a dozen times throughout the film, there's the obligatory \\\"we're-falling-in-love\\\" montage and loads of other attractions! My God, what a brilliant experience. The original French title translates itself as \\\"Life to Survive\\\", which is uniquely appropriate because it makes just as much sense as the rest of the movie: None!\"  "
            ],
            "text/html": [
              "\n",
              "  <div id=\"df-6d854738-d737-4161-8000-e27772c1488a\" class=\"colab-df-container\">\n",
              "    <div>\n",
              "<style scoped>\n",
              "    .dataframe tbody tr th:only-of-type {\n",
              "        vertical-align: middle;\n",
              "    }\n",
              "\n",
              "    .dataframe tbody tr th {\n",
              "        vertical-align: top;\n",
              "    }\n",
              "\n",
              "    .dataframe thead th {\n",
              "        text-align: right;\n",
              "    }\n",
              "</style>\n",
              "<table border=\"1\" class=\"dataframe\">\n",
              "  <thead>\n",
              "    <tr style=\"text-align: right;\">\n",
              "      <th></th>\n",
              "      <th>id</th>\n",
              "      <th>sentiment</th>\n",
              "      <th>review</th>\n",
              "    </tr>\n",
              "  </thead>\n",
              "  <tbody>\n",
              "    <tr>\n",
              "      <th>0</th>\n",
              "      <td>5814_8</td>\n",
              "      <td>1</td>\n",
              "      <td>With all this stuff going down at the moment with MJ i've started listening to his music, watching the odd documentary here and there, watched The Wiz and watched Moonwalker again. Maybe i just want to get a certain insight into this guy who i thought was really cool in the eighties just to maybe make up my mind whether he is guilty or innocent. Moonwalker is part biography, part feature film which i remember going to see at the cinema when it was originally released. Some of it has subtle messages about MJ's feeling towards the press and also the obvious message of drugs are bad m'kay.&lt;br /&gt;&lt;br /&gt;Visually impressive but of course this is all about Michael Jackson so unless you remotely like MJ in anyway then you are going to hate this and find it boring. Some may call MJ an egotist for consenting to the making of this movie BUT MJ and most of his fans would say that he made it for the fans which if true is really nice of him.&lt;br /&gt;&lt;br /&gt;The actual feature film bit when it finally starts is only on for 20 minutes or so excluding the Smooth Criminal sequence and Joe Pesci is convincing as a psychopathic all powerful drug lord. Why he wants MJ dead so bad is beyond me. Because MJ overheard his plans? Nah, Joe Pesci's character ranted that he wanted people to know it is he who is supplying drugs etc so i dunno, maybe he just hates MJ's music.&lt;br /&gt;&lt;br /&gt;Lots of cool things in this like MJ turning into a car and a robot and the whole Speed Demon sequence. Also, the director must have had the patience of a saint when it came to filming the kiddy Bad sequence as usually directors hate working with one kid let alone a whole bunch of them performing a complex dance scene.&lt;br /&gt;&lt;br /&gt;Bottom line, this movie is for people who like MJ on one level or another (which i think is most people). If not, then stay away. It does try and give off a wholesome message and ironically MJ's bestest buddy in this movie is a girl! Michael Jackson is truly one of the most talented people ever to grace this planet but is he guilty? Well, with all the attention i've gave this subject....hmmm well i don't know because people can be different behind closed doors, i know this for a fact. He is either an extremely nice but stupid guy or one of the most sickest liars. I hope he is not the latter.</td>\n",
              "    </tr>\n",
              "    <tr>\n",
              "      <th>1</th>\n",
              "      <td>2381_9</td>\n",
              "      <td>1</td>\n",
              "      <td>\\The Classic War of the Worlds\\\" by Timothy Hines is a very entertaining film that obviously goes to great effort and lengths to faithfully recreate H. G. Wells' classic book. Mr. Hines succeeds in doing so. I, and those who watched his film with me, appreciated the fact that it was not the standard, predictable Hollywood fare that comes out every year, e.g. the Spielberg version with Tom Cruise that had only the slightest resemblance to the book. Obviously, everyone looks for different things in a movie. Those who envision themselves as amateur \\\"critics\\\" look only to criticize everything they can. Others rate a movie on more important bases,like being entertained, which is why most people never agree with the \\\"critics\\\". We enjoyed the effort Mr. Hines put into being faithful to H.G. Wells' classic novel, and we found it to be very entertaining. This made it easy to overlook what the \\\"critics\\\" perceive to be its shortcomings.\"</td>\n",
              "    </tr>\n",
              "    <tr>\n",
              "      <th>2</th>\n",
              "      <td>7759_3</td>\n",
              "      <td>0</td>\n",
              "      <td>The film starts with a manager (Nicholas Bell) giving welcome investors (Robert Carradine) to Primal Park . A secret project mutating a primal animal using fossilized DNA, like ¨Jurassik Park¨, and some scientists resurrect one of nature's most fearsome predators, the Sabretooth tiger or Smilodon . Scientific ambition turns deadly, however, and when the high voltage fence is opened the creature escape and begins savagely stalking its prey - the human visitors , tourists and scientific.Meanwhile some youngsters enter in the restricted area of the security center and are attacked by a pack of large pre-historical animals which are deadlier and bigger . In addition , a security agent (Stacy Haiduk) and her mate (Brian Wimmer) fight hardly against the carnivorous Smilodons. The Sabretooths, themselves , of course, are the real star stars and they are astounding terrifyingly though not convincing. The giant animals savagely are stalking its prey and the group run afoul and fight against one nature's most fearsome predators. Furthermore a third Sabretooth more dangerous and slow stalks its victims.&lt;br /&gt;&lt;br /&gt;The movie delivers the goods with lots of blood and gore as beheading, hair-raising chills,full of scares when the Sabretooths appear with mediocre special effects.The story provides exciting and stirring entertainment but it results to be quite boring .The giant animals are majority made by computer generator and seem totally lousy .Middling performances though the players reacting appropriately to becoming food.Actors give vigorously physical performances dodging the beasts ,running,bound and leaps or dangling over walls . And it packs a ridiculous final deadly scene. No for small kids by realistic,gory and violent attack scenes . Other films about Sabretooths or Smilodon are the following : ¨Sabretooth(2002)¨by James R Hickox with Vanessa Angel, David Keith and John Rhys Davies and the much better ¨10.000 BC(2006)¨ by Roland Emmerich with with Steven Strait, Cliff Curtis and Camilla Belle. This motion picture filled with bloody moments is badly directed by George Miller and with no originality because takes too many elements from previous films. Miller is an Australian director usually working for television (Tidal wave, Journey to the center of the earth, and many others) and occasionally for cinema ( The man from Snowy river, Zeus and Roxanne,Robinson Crusoe ). Rating : Below average, bottom of barrel.</td>\n",
              "    </tr>\n",
              "    <tr>\n",
              "      <th>3</th>\n",
              "      <td>3630_4</td>\n",
              "      <td>0</td>\n",
              "      <td>It must be assumed that those who praised this film (\\the greatest filmed opera ever,\\\" didn't I read somewhere?) either don't care for opera, don't care for Wagner, or don't care about anything except their desire to appear Cultured. Either as a representation of Wagner's swan-song, or as a movie, this strikes me as an unmitigated disaster, with a leaden reading of the score matched to a tricksy, lugubrious realisation of the text.&lt;br /&gt;&lt;br /&gt;It's questionable that people with ideas as to what an opera (or, for that matter, a play, especially one by Shakespeare) is \\\"about\\\" should be allowed anywhere near a theatre or film studio; Syberberg, very fashionably, but without the smallest justification from Wagner's text, decided that Parsifal is \\\"about\\\" bisexual integration, so that the title character, in the latter stages, transmutes into a kind of beatnik babe, though one who continues to sing high tenor -- few if any of the actors in the film are the singers, and we get a double dose of Armin Jordan, the conductor, who is seen as the face (but not heard as the voice) of Amfortas, and also appears monstrously in double exposure as a kind of Batonzilla or Conductor Who Ate Monsalvat during the playing of the Good Friday music -- in which, by the way, the transcendant loveliness of nature is represented by a scattering of shopworn and flaccid crocuses stuck in ill-laid turf, an expedient which baffles me. In the theatre we sometimes have to piece out such imperfections with our thoughts, but I can't think why Syberberg couldn't splice in, for Parsifal and Gurnemanz, mountain pasture as lush as was provided for Julie Andrews in Sound of Music...&lt;br /&gt;&lt;br /&gt;The sound is hard to endure, the high voices and the trumpets in particular possessing an aural glare that adds another sort of fatigue to our impatience with the uninspired conducting and paralytic unfolding of the ritual. Someone in another review mentioned the 1951 Bayreuth recording, and Knappertsbusch, though his tempi are often very slow, had what Jordan altogether lacks, a sense of pulse, a feeling for the ebb and flow of the music -- and, after half a century, the orchestral sound in that set, in modern pressings, is still superior to this film.\"</td>\n",
              "    </tr>\n",
              "    <tr>\n",
              "      <th>4</th>\n",
              "      <td>9495_8</td>\n",
              "      <td>1</td>\n",
              "      <td>Superbly trashy and wondrously unpretentious 80's exploitation, hooray! The pre-credits opening sequences somewhat give the false impression that we're dealing with a serious and harrowing drama, but you need not fear because barely ten minutes later we're up until our necks in nonsensical chainsaw battles, rough fist-fights, lurid dialogs and gratuitous nudity! Bo and Ingrid are two orphaned siblings with an unusually close and even slightly perverted relationship. Can you imagine playfully ripping off the towel that covers your sister's naked body and then stare at her unshaven genitals for several whole minutes? Well, Bo does that to his sister and, judging by her dubbed laughter, she doesn't mind at all. Sick, dude! Anyway, as kids they fled from Russia with their parents, but nasty soldiers brutally slaughtered mommy and daddy. A friendly smuggler took custody over them, however, and even raised and trained Bo and Ingrid into expert smugglers. When the actual plot lifts off, 20 years later, they're facing their ultimate quest as the mythical and incredibly valuable White Fire diamond is coincidentally found in a mine. Very few things in life ever made as little sense as the plot and narrative structure of \\White Fire\\\", but it sure is a lot of fun to watch. Most of the time you have no clue who's beating up who or for what cause (and I bet the actors understood even less) but whatever! The violence is magnificently grotesque and every single plot twist is pleasingly retarded. The script goes totally bonkers beyond repair when suddenly  and I won't reveal for what reason  Bo needs a replacement for Ingrid and Fred Williamson enters the scene with a big cigar in his mouth and his sleazy black fingers all over the local prostitutes. Bo's principal opponent is an Italian chick with big breasts but a hideous accent, the preposterous but catchy theme song plays at least a dozen times throughout the film, there's the obligatory \\\"we're-falling-in-love\\\" montage and loads of other attractions! My God, what a brilliant experience. The original French title translates itself as \\\"Life to Survive\\\", which is uniquely appropriate because it makes just as much sense as the rest of the movie: None!\"</td>\n",
              "    </tr>\n",
              "  </tbody>\n",
              "</table>\n",
              "</div>\n",
              "    <div class=\"colab-df-buttons\">\n",
              "\n",
              "  <div class=\"colab-df-container\">\n",
              "    <button class=\"colab-df-convert\" onclick=\"convertToInteractive('df-6d854738-d737-4161-8000-e27772c1488a')\"\n",
              "            title=\"Convert this dataframe to an interactive table.\"\n",
              "            style=\"display:none;\">\n",
              "\n",
              "  <svg xmlns=\"http://www.w3.org/2000/svg\" height=\"24px\" viewBox=\"0 -960 960 960\">\n",
              "    <path d=\"M120-120v-720h720v720H120Zm60-500h600v-160H180v160Zm220 220h160v-160H400v160Zm0 220h160v-160H400v160ZM180-400h160v-160H180v160Zm440 0h160v-160H620v160ZM180-180h160v-160H180v160Zm440 0h160v-160H620v160Z\"/>\n",
              "  </svg>\n",
              "    </button>\n",
              "\n",
              "  <style>\n",
              "    .colab-df-container {\n",
              "      display:flex;\n",
              "      gap: 12px;\n",
              "    }\n",
              "\n",
              "    .colab-df-convert {\n",
              "      background-color: #E8F0FE;\n",
              "      border: none;\n",
              "      border-radius: 50%;\n",
              "      cursor: pointer;\n",
              "      display: none;\n",
              "      fill: #1967D2;\n",
              "      height: 32px;\n",
              "      padding: 0 0 0 0;\n",
              "      width: 32px;\n",
              "    }\n",
              "\n",
              "    .colab-df-convert:hover {\n",
              "      background-color: #E2EBFA;\n",
              "      box-shadow: 0px 1px 2px rgba(60, 64, 67, 0.3), 0px 1px 3px 1px rgba(60, 64, 67, 0.15);\n",
              "      fill: #174EA6;\n",
              "    }\n",
              "\n",
              "    .colab-df-buttons div {\n",
              "      margin-bottom: 4px;\n",
              "    }\n",
              "\n",
              "    [theme=dark] .colab-df-convert {\n",
              "      background-color: #3B4455;\n",
              "      fill: #D2E3FC;\n",
              "    }\n",
              "\n",
              "    [theme=dark] .colab-df-convert:hover {\n",
              "      background-color: #434B5C;\n",
              "      box-shadow: 0px 1px 3px 1px rgba(0, 0, 0, 0.15);\n",
              "      filter: drop-shadow(0px 1px 2px rgba(0, 0, 0, 0.3));\n",
              "      fill: #FFFFFF;\n",
              "    }\n",
              "  </style>\n",
              "\n",
              "    <script>\n",
              "      const buttonEl =\n",
              "        document.querySelector('#df-6d854738-d737-4161-8000-e27772c1488a button.colab-df-convert');\n",
              "      buttonEl.style.display =\n",
              "        google.colab.kernel.accessAllowed ? 'block' : 'none';\n",
              "\n",
              "      async function convertToInteractive(key) {\n",
              "        const element = document.querySelector('#df-6d854738-d737-4161-8000-e27772c1488a');\n",
              "        const dataTable =\n",
              "          await google.colab.kernel.invokeFunction('convertToInteractive',\n",
              "                                                    [key], {});\n",
              "        if (!dataTable) return;\n",
              "\n",
              "        const docLinkHtml = 'Like what you see? Visit the ' +\n",
              "          '<a target=\"_blank\" href=https://colab.research.google.com/notebooks/data_table.ipynb>data table notebook</a>'\n",
              "          + ' to learn more about interactive tables.';\n",
              "        element.innerHTML = '';\n",
              "        dataTable['output_type'] = 'display_data';\n",
              "        await google.colab.output.renderOutput(dataTable, element);\n",
              "        const docLink = document.createElement('div');\n",
              "        docLink.innerHTML = docLinkHtml;\n",
              "        element.appendChild(docLink);\n",
              "      }\n",
              "    </script>\n",
              "  </div>\n",
              "\n",
              "\n",
              "<div id=\"df-a42cb10b-1e36-43d5-9f49-c7e05353dbcf\">\n",
              "  <button class=\"colab-df-quickchart\" onclick=\"quickchart('df-a42cb10b-1e36-43d5-9f49-c7e05353dbcf')\"\n",
              "            title=\"Suggest charts\"\n",
              "            style=\"display:none;\">\n",
              "\n",
              "<svg xmlns=\"http://www.w3.org/2000/svg\" height=\"24px\"viewBox=\"0 0 24 24\"\n",
              "     width=\"24px\">\n",
              "    <g>\n",
              "        <path d=\"M19 3H5c-1.1 0-2 .9-2 2v14c0 1.1.9 2 2 2h14c1.1 0 2-.9 2-2V5c0-1.1-.9-2-2-2zM9 17H7v-7h2v7zm4 0h-2V7h2v10zm4 0h-2v-4h2v4z\"/>\n",
              "    </g>\n",
              "</svg>\n",
              "  </button>\n",
              "\n",
              "<style>\n",
              "  .colab-df-quickchart {\n",
              "      --bg-color: #E8F0FE;\n",
              "      --fill-color: #1967D2;\n",
              "      --hover-bg-color: #E2EBFA;\n",
              "      --hover-fill-color: #174EA6;\n",
              "      --disabled-fill-color: #AAA;\n",
              "      --disabled-bg-color: #DDD;\n",
              "  }\n",
              "\n",
              "  [theme=dark] .colab-df-quickchart {\n",
              "      --bg-color: #3B4455;\n",
              "      --fill-color: #D2E3FC;\n",
              "      --hover-bg-color: #434B5C;\n",
              "      --hover-fill-color: #FFFFFF;\n",
              "      --disabled-bg-color: #3B4455;\n",
              "      --disabled-fill-color: #666;\n",
              "  }\n",
              "\n",
              "  .colab-df-quickchart {\n",
              "    background-color: var(--bg-color);\n",
              "    border: none;\n",
              "    border-radius: 50%;\n",
              "    cursor: pointer;\n",
              "    display: none;\n",
              "    fill: var(--fill-color);\n",
              "    height: 32px;\n",
              "    padding: 0;\n",
              "    width: 32px;\n",
              "  }\n",
              "\n",
              "  .colab-df-quickchart:hover {\n",
              "    background-color: var(--hover-bg-color);\n",
              "    box-shadow: 0 1px 2px rgba(60, 64, 67, 0.3), 0 1px 3px 1px rgba(60, 64, 67, 0.15);\n",
              "    fill: var(--button-hover-fill-color);\n",
              "  }\n",
              "\n",
              "  .colab-df-quickchart-complete:disabled,\n",
              "  .colab-df-quickchart-complete:disabled:hover {\n",
              "    background-color: var(--disabled-bg-color);\n",
              "    fill: var(--disabled-fill-color);\n",
              "    box-shadow: none;\n",
              "  }\n",
              "\n",
              "  .colab-df-spinner {\n",
              "    border: 2px solid var(--fill-color);\n",
              "    border-color: transparent;\n",
              "    border-bottom-color: var(--fill-color);\n",
              "    animation:\n",
              "      spin 1s steps(1) infinite;\n",
              "  }\n",
              "\n",
              "  @keyframes spin {\n",
              "    0% {\n",
              "      border-color: transparent;\n",
              "      border-bottom-color: var(--fill-color);\n",
              "      border-left-color: var(--fill-color);\n",
              "    }\n",
              "    20% {\n",
              "      border-color: transparent;\n",
              "      border-left-color: var(--fill-color);\n",
              "      border-top-color: var(--fill-color);\n",
              "    }\n",
              "    30% {\n",
              "      border-color: transparent;\n",
              "      border-left-color: var(--fill-color);\n",
              "      border-top-color: var(--fill-color);\n",
              "      border-right-color: var(--fill-color);\n",
              "    }\n",
              "    40% {\n",
              "      border-color: transparent;\n",
              "      border-right-color: var(--fill-color);\n",
              "      border-top-color: var(--fill-color);\n",
              "    }\n",
              "    60% {\n",
              "      border-color: transparent;\n",
              "      border-right-color: var(--fill-color);\n",
              "    }\n",
              "    80% {\n",
              "      border-color: transparent;\n",
              "      border-right-color: var(--fill-color);\n",
              "      border-bottom-color: var(--fill-color);\n",
              "    }\n",
              "    90% {\n",
              "      border-color: transparent;\n",
              "      border-bottom-color: var(--fill-color);\n",
              "    }\n",
              "  }\n",
              "</style>\n",
              "\n",
              "  <script>\n",
              "    async function quickchart(key) {\n",
              "      const quickchartButtonEl =\n",
              "        document.querySelector('#' + key + ' button');\n",
              "      quickchartButtonEl.disabled = true;  // To prevent multiple clicks.\n",
              "      quickchartButtonEl.classList.add('colab-df-spinner');\n",
              "      try {\n",
              "        const charts = await google.colab.kernel.invokeFunction(\n",
              "            'suggestCharts', [key], {});\n",
              "      } catch (error) {\n",
              "        console.error('Error during call to suggestCharts:', error);\n",
              "      }\n",
              "      quickchartButtonEl.classList.remove('colab-df-spinner');\n",
              "      quickchartButtonEl.classList.add('colab-df-quickchart-complete');\n",
              "    }\n",
              "    (() => {\n",
              "      let quickchartButtonEl =\n",
              "        document.querySelector('#df-a42cb10b-1e36-43d5-9f49-c7e05353dbcf button');\n",
              "      quickchartButtonEl.style.display =\n",
              "        google.colab.kernel.accessAllowed ? 'block' : 'none';\n",
              "    })();\n",
              "  </script>\n",
              "</div>\n",
              "\n",
              "    </div>\n",
              "  </div>\n"
            ]
          },
          "metadata": {},
          "execution_count": 3
        }
      ]
    },
    {
      "cell_type": "code",
      "source": [
        "df.shape"
      ],
      "metadata": {
        "colab": {
          "base_uri": "https://localhost:8080/"
        },
        "id": "-XiRhtSNjrEK",
        "outputId": "19676b6c-48b1-45aa-ee34-a054eef162de"
      },
      "execution_count": 4,
      "outputs": [
        {
          "output_type": "execute_result",
          "data": {
            "text/plain": [
              "(25000, 3)"
            ]
          },
          "metadata": {},
          "execution_count": 4
        }
      ]
    },
    {
      "cell_type": "code",
      "source": [
        "df.dtypes"
      ],
      "metadata": {
        "colab": {
          "base_uri": "https://localhost:8080/"
        },
        "id": "863ucXk991IP",
        "outputId": "d46aaed5-156d-46ee-84f8-c3dc5455b2db"
      },
      "execution_count": 5,
      "outputs": [
        {
          "output_type": "execute_result",
          "data": {
            "text/plain": [
              "id           object\n",
              "sentiment     int64\n",
              "review       object\n",
              "dtype: object"
            ]
          },
          "metadata": {},
          "execution_count": 5
        }
      ]
    },
    {
      "cell_type": "code",
      "source": [
        "# Checking for missing values\n",
        "df.isna().sum()"
      ],
      "metadata": {
        "colab": {
          "base_uri": "https://localhost:8080/"
        },
        "id": "1hG3Bs0M-Lg2",
        "outputId": "55e67451-b1fc-4a27-d2cf-66a7a0d2783c"
      },
      "execution_count": 6,
      "outputs": [
        {
          "output_type": "execute_result",
          "data": {
            "text/plain": [
              "id           0\n",
              "sentiment    0\n",
              "review       0\n",
              "dtype: int64"
            ]
          },
          "metadata": {},
          "execution_count": 6
        }
      ]
    },
    {
      "cell_type": "code",
      "source": [
        "# Checking for duplicate values\n",
        "df.duplicated().sum()"
      ],
      "metadata": {
        "colab": {
          "base_uri": "https://localhost:8080/"
        },
        "id": "gxvOT_k7-cAu",
        "outputId": "1188e637-9fdb-4a3d-f725-6a79832ae6aa"
      },
      "execution_count": 7,
      "outputs": [
        {
          "output_type": "execute_result",
          "data": {
            "text/plain": [
              "0"
            ]
          },
          "metadata": {},
          "execution_count": 7
        }
      ]
    },
    {
      "cell_type": "code",
      "source": [
        "#Summary of the dataset\n",
        "df.describe()"
      ],
      "metadata": {
        "colab": {
          "base_uri": "https://localhost:8080/",
          "height": 300
        },
        "id": "hsGcCwh397Nl",
        "outputId": "dd932fcd-292e-4198-8f61-45cfa9dba7ca"
      },
      "execution_count": 8,
      "outputs": [
        {
          "output_type": "execute_result",
          "data": {
            "text/plain": [
              "         sentiment\n",
              "count  25000.00000\n",
              "mean       0.50000\n",
              "std        0.50001\n",
              "min        0.00000\n",
              "25%        0.00000\n",
              "50%        0.50000\n",
              "75%        1.00000\n",
              "max        1.00000"
            ],
            "text/html": [
              "\n",
              "  <div id=\"df-6c0fa73c-5c3b-4cb4-8ca7-52dd3dba8ce0\" class=\"colab-df-container\">\n",
              "    <div>\n",
              "<style scoped>\n",
              "    .dataframe tbody tr th:only-of-type {\n",
              "        vertical-align: middle;\n",
              "    }\n",
              "\n",
              "    .dataframe tbody tr th {\n",
              "        vertical-align: top;\n",
              "    }\n",
              "\n",
              "    .dataframe thead th {\n",
              "        text-align: right;\n",
              "    }\n",
              "</style>\n",
              "<table border=\"1\" class=\"dataframe\">\n",
              "  <thead>\n",
              "    <tr style=\"text-align: right;\">\n",
              "      <th></th>\n",
              "      <th>sentiment</th>\n",
              "    </tr>\n",
              "  </thead>\n",
              "  <tbody>\n",
              "    <tr>\n",
              "      <th>count</th>\n",
              "      <td>25000.00000</td>\n",
              "    </tr>\n",
              "    <tr>\n",
              "      <th>mean</th>\n",
              "      <td>0.50000</td>\n",
              "    </tr>\n",
              "    <tr>\n",
              "      <th>std</th>\n",
              "      <td>0.50001</td>\n",
              "    </tr>\n",
              "    <tr>\n",
              "      <th>min</th>\n",
              "      <td>0.00000</td>\n",
              "    </tr>\n",
              "    <tr>\n",
              "      <th>25%</th>\n",
              "      <td>0.00000</td>\n",
              "    </tr>\n",
              "    <tr>\n",
              "      <th>50%</th>\n",
              "      <td>0.50000</td>\n",
              "    </tr>\n",
              "    <tr>\n",
              "      <th>75%</th>\n",
              "      <td>1.00000</td>\n",
              "    </tr>\n",
              "    <tr>\n",
              "      <th>max</th>\n",
              "      <td>1.00000</td>\n",
              "    </tr>\n",
              "  </tbody>\n",
              "</table>\n",
              "</div>\n",
              "    <div class=\"colab-df-buttons\">\n",
              "\n",
              "  <div class=\"colab-df-container\">\n",
              "    <button class=\"colab-df-convert\" onclick=\"convertToInteractive('df-6c0fa73c-5c3b-4cb4-8ca7-52dd3dba8ce0')\"\n",
              "            title=\"Convert this dataframe to an interactive table.\"\n",
              "            style=\"display:none;\">\n",
              "\n",
              "  <svg xmlns=\"http://www.w3.org/2000/svg\" height=\"24px\" viewBox=\"0 -960 960 960\">\n",
              "    <path d=\"M120-120v-720h720v720H120Zm60-500h600v-160H180v160Zm220 220h160v-160H400v160Zm0 220h160v-160H400v160ZM180-400h160v-160H180v160Zm440 0h160v-160H620v160ZM180-180h160v-160H180v160Zm440 0h160v-160H620v160Z\"/>\n",
              "  </svg>\n",
              "    </button>\n",
              "\n",
              "  <style>\n",
              "    .colab-df-container {\n",
              "      display:flex;\n",
              "      gap: 12px;\n",
              "    }\n",
              "\n",
              "    .colab-df-convert {\n",
              "      background-color: #E8F0FE;\n",
              "      border: none;\n",
              "      border-radius: 50%;\n",
              "      cursor: pointer;\n",
              "      display: none;\n",
              "      fill: #1967D2;\n",
              "      height: 32px;\n",
              "      padding: 0 0 0 0;\n",
              "      width: 32px;\n",
              "    }\n",
              "\n",
              "    .colab-df-convert:hover {\n",
              "      background-color: #E2EBFA;\n",
              "      box-shadow: 0px 1px 2px rgba(60, 64, 67, 0.3), 0px 1px 3px 1px rgba(60, 64, 67, 0.15);\n",
              "      fill: #174EA6;\n",
              "    }\n",
              "\n",
              "    .colab-df-buttons div {\n",
              "      margin-bottom: 4px;\n",
              "    }\n",
              "\n",
              "    [theme=dark] .colab-df-convert {\n",
              "      background-color: #3B4455;\n",
              "      fill: #D2E3FC;\n",
              "    }\n",
              "\n",
              "    [theme=dark] .colab-df-convert:hover {\n",
              "      background-color: #434B5C;\n",
              "      box-shadow: 0px 1px 3px 1px rgba(0, 0, 0, 0.15);\n",
              "      filter: drop-shadow(0px 1px 2px rgba(0, 0, 0, 0.3));\n",
              "      fill: #FFFFFF;\n",
              "    }\n",
              "  </style>\n",
              "\n",
              "    <script>\n",
              "      const buttonEl =\n",
              "        document.querySelector('#df-6c0fa73c-5c3b-4cb4-8ca7-52dd3dba8ce0 button.colab-df-convert');\n",
              "      buttonEl.style.display =\n",
              "        google.colab.kernel.accessAllowed ? 'block' : 'none';\n",
              "\n",
              "      async function convertToInteractive(key) {\n",
              "        const element = document.querySelector('#df-6c0fa73c-5c3b-4cb4-8ca7-52dd3dba8ce0');\n",
              "        const dataTable =\n",
              "          await google.colab.kernel.invokeFunction('convertToInteractive',\n",
              "                                                    [key], {});\n",
              "        if (!dataTable) return;\n",
              "\n",
              "        const docLinkHtml = 'Like what you see? Visit the ' +\n",
              "          '<a target=\"_blank\" href=https://colab.research.google.com/notebooks/data_table.ipynb>data table notebook</a>'\n",
              "          + ' to learn more about interactive tables.';\n",
              "        element.innerHTML = '';\n",
              "        dataTable['output_type'] = 'display_data';\n",
              "        await google.colab.output.renderOutput(dataTable, element);\n",
              "        const docLink = document.createElement('div');\n",
              "        docLink.innerHTML = docLinkHtml;\n",
              "        element.appendChild(docLink);\n",
              "      }\n",
              "    </script>\n",
              "  </div>\n",
              "\n",
              "\n",
              "<div id=\"df-85c34e26-1656-4abf-bc4d-0d7d3ef14490\">\n",
              "  <button class=\"colab-df-quickchart\" onclick=\"quickchart('df-85c34e26-1656-4abf-bc4d-0d7d3ef14490')\"\n",
              "            title=\"Suggest charts\"\n",
              "            style=\"display:none;\">\n",
              "\n",
              "<svg xmlns=\"http://www.w3.org/2000/svg\" height=\"24px\"viewBox=\"0 0 24 24\"\n",
              "     width=\"24px\">\n",
              "    <g>\n",
              "        <path d=\"M19 3H5c-1.1 0-2 .9-2 2v14c0 1.1.9 2 2 2h14c1.1 0 2-.9 2-2V5c0-1.1-.9-2-2-2zM9 17H7v-7h2v7zm4 0h-2V7h2v10zm4 0h-2v-4h2v4z\"/>\n",
              "    </g>\n",
              "</svg>\n",
              "  </button>\n",
              "\n",
              "<style>\n",
              "  .colab-df-quickchart {\n",
              "      --bg-color: #E8F0FE;\n",
              "      --fill-color: #1967D2;\n",
              "      --hover-bg-color: #E2EBFA;\n",
              "      --hover-fill-color: #174EA6;\n",
              "      --disabled-fill-color: #AAA;\n",
              "      --disabled-bg-color: #DDD;\n",
              "  }\n",
              "\n",
              "  [theme=dark] .colab-df-quickchart {\n",
              "      --bg-color: #3B4455;\n",
              "      --fill-color: #D2E3FC;\n",
              "      --hover-bg-color: #434B5C;\n",
              "      --hover-fill-color: #FFFFFF;\n",
              "      --disabled-bg-color: #3B4455;\n",
              "      --disabled-fill-color: #666;\n",
              "  }\n",
              "\n",
              "  .colab-df-quickchart {\n",
              "    background-color: var(--bg-color);\n",
              "    border: none;\n",
              "    border-radius: 50%;\n",
              "    cursor: pointer;\n",
              "    display: none;\n",
              "    fill: var(--fill-color);\n",
              "    height: 32px;\n",
              "    padding: 0;\n",
              "    width: 32px;\n",
              "  }\n",
              "\n",
              "  .colab-df-quickchart:hover {\n",
              "    background-color: var(--hover-bg-color);\n",
              "    box-shadow: 0 1px 2px rgba(60, 64, 67, 0.3), 0 1px 3px 1px rgba(60, 64, 67, 0.15);\n",
              "    fill: var(--button-hover-fill-color);\n",
              "  }\n",
              "\n",
              "  .colab-df-quickchart-complete:disabled,\n",
              "  .colab-df-quickchart-complete:disabled:hover {\n",
              "    background-color: var(--disabled-bg-color);\n",
              "    fill: var(--disabled-fill-color);\n",
              "    box-shadow: none;\n",
              "  }\n",
              "\n",
              "  .colab-df-spinner {\n",
              "    border: 2px solid var(--fill-color);\n",
              "    border-color: transparent;\n",
              "    border-bottom-color: var(--fill-color);\n",
              "    animation:\n",
              "      spin 1s steps(1) infinite;\n",
              "  }\n",
              "\n",
              "  @keyframes spin {\n",
              "    0% {\n",
              "      border-color: transparent;\n",
              "      border-bottom-color: var(--fill-color);\n",
              "      border-left-color: var(--fill-color);\n",
              "    }\n",
              "    20% {\n",
              "      border-color: transparent;\n",
              "      border-left-color: var(--fill-color);\n",
              "      border-top-color: var(--fill-color);\n",
              "    }\n",
              "    30% {\n",
              "      border-color: transparent;\n",
              "      border-left-color: var(--fill-color);\n",
              "      border-top-color: var(--fill-color);\n",
              "      border-right-color: var(--fill-color);\n",
              "    }\n",
              "    40% {\n",
              "      border-color: transparent;\n",
              "      border-right-color: var(--fill-color);\n",
              "      border-top-color: var(--fill-color);\n",
              "    }\n",
              "    60% {\n",
              "      border-color: transparent;\n",
              "      border-right-color: var(--fill-color);\n",
              "    }\n",
              "    80% {\n",
              "      border-color: transparent;\n",
              "      border-right-color: var(--fill-color);\n",
              "      border-bottom-color: var(--fill-color);\n",
              "    }\n",
              "    90% {\n",
              "      border-color: transparent;\n",
              "      border-bottom-color: var(--fill-color);\n",
              "    }\n",
              "  }\n",
              "</style>\n",
              "\n",
              "  <script>\n",
              "    async function quickchart(key) {\n",
              "      const quickchartButtonEl =\n",
              "        document.querySelector('#' + key + ' button');\n",
              "      quickchartButtonEl.disabled = true;  // To prevent multiple clicks.\n",
              "      quickchartButtonEl.classList.add('colab-df-spinner');\n",
              "      try {\n",
              "        const charts = await google.colab.kernel.invokeFunction(\n",
              "            'suggestCharts', [key], {});\n",
              "      } catch (error) {\n",
              "        console.error('Error during call to suggestCharts:', error);\n",
              "      }\n",
              "      quickchartButtonEl.classList.remove('colab-df-spinner');\n",
              "      quickchartButtonEl.classList.add('colab-df-quickchart-complete');\n",
              "    }\n",
              "    (() => {\n",
              "      let quickchartButtonEl =\n",
              "        document.querySelector('#df-85c34e26-1656-4abf-bc4d-0d7d3ef14490 button');\n",
              "      quickchartButtonEl.style.display =\n",
              "        google.colab.kernel.accessAllowed ? 'block' : 'none';\n",
              "    })();\n",
              "  </script>\n",
              "</div>\n",
              "\n",
              "    </div>\n",
              "  </div>\n"
            ]
          },
          "metadata": {},
          "execution_count": 8
        }
      ]
    },
    {
      "cell_type": "code",
      "source": [
        "df['sentiment'].value_counts()"
      ],
      "metadata": {
        "colab": {
          "base_uri": "https://localhost:8080/"
        },
        "id": "pdTzt2eUoC3l",
        "outputId": "f8b2f2a0-dc42-450e-a6ca-36e0a9bde58a"
      },
      "execution_count": 9,
      "outputs": [
        {
          "output_type": "execute_result",
          "data": {
            "text/plain": [
              "1    12500\n",
              "0    12500\n",
              "Name: sentiment, dtype: int64"
            ]
          },
          "metadata": {},
          "execution_count": 9
        }
      ]
    },
    {
      "cell_type": "code",
      "source": [
        "plt.figure(figsize=(10,4))\n",
        "sns.countplot(data=df, x=\"sentiment\")\n",
        "plt.title(\"Sentiment distribution\") # 0 = Negative, 1 = Positive\n",
        "plt.show()"
      ],
      "metadata": {
        "colab": {
          "base_uri": "https://localhost:8080/",
          "height": 410
        },
        "id": "mTtgYtSjtbtG",
        "outputId": "9ce9916e-9b50-4cf4-e91b-04859bc71791"
      },
      "execution_count": 10,
      "outputs": [
        {
          "output_type": "display_data",
          "data": {
            "text/plain": [
              "<Figure size 1000x400 with 1 Axes>"
            ],
            "image/png": "[encoded data removed]"
          },
          "metadata": {}
        }
      ]
    },
    {
      "cell_type": "code",
      "source": [
        "# Calculate length of each review\n",
        "len_data = pd.concat([df.loc[:,\"review\"].map(lambda x:len(x)),df.loc[:,\"sentiment\"]],axis=1)\n",
        "\n",
        "# Plot distribution\n",
        "plt.figure(figsize=(12,5))\n",
        "sns.histplot(data=len_data, x=\"review\", hue=\"sentiment\", binwidth=100, kde=True)\n",
        "plt.title(\"Length of reviews\")\n",
        "plt.xlabel(\"Length\")\n",
        "plt.xlim([0,6000])\n",
        "plt.show()"
      ],
      "metadata": {
        "colab": {
          "base_uri": "https://localhost:8080/",
          "height": 446
        },
        "id": "ZCkBR5UQuOdn",
        "outputId": "32d37bfd-ea53-4636-9648-034719284ebd"
      },
      "execution_count": 11,
      "outputs": [
        {
          "output_type": "display_data",
          "data": {
            "text/plain": [
              "<Figure size 1200x500 with 1 Axes>"
            ],
            "image/png": "[encoded data removed]"
          },
          "metadata": {}
        }
      ]
    },
    {
      "cell_type": "code",
      "source": [
        "import string\n",
        "import re\n",
        "def remove_pun(text):\n",
        "    # Remove punctuation\n",
        "    text = ''.join([i for i in text if i not in string.punctuation])\n",
        "\n",
        "    # Remove URL\n",
        "    text = re.sub(r'http\\S+|www\\S+|\\S+\\.com\\S+', '', text, flags=re.MULTILINE)\n",
        "\n",
        "    # Remove tags\n",
        "    text = re.sub(r'(@\\S+)|(#\\S+)', r'', text)\n",
        "\n",
        "    # Remove \"RT\" from the text\n",
        "    text = re.sub(r'\\bRT\\b', r'', text)\n",
        "\n",
        "    # Remove <br /> or <br/>\n",
        "    text = re.sub(r'<br\\s*/?>', '', text)\n",
        "\n",
        "    # Remove repeated characters\n",
        "    return re.sub(r'(.)\\1+', r'\\1', text)\n",
        "\n"
      ],
      "metadata": {
        "id": "JSVY2JkkjrSK"
      },
      "execution_count": 12,
      "outputs": []
    },
    {
      "cell_type": "code",
      "source": [
        " # Tokenize the given text into words\n",
        "\n",
        "import nltk\n",
        "nltk.download('punkt')\n",
        "def tokenize(text):\n",
        "    words = nltk.word_tokenize(text)\n",
        "    return words"
      ],
      "metadata": {
        "colab": {
          "base_uri": "https://localhost:8080/"
        },
        "id": "PbvYbS6ojrVF",
        "outputId": "a6fb9d4e-c8f0-4af1-fd10-447ff5ac9b2a"
      },
      "execution_count": 13,
      "outputs": [
        {
          "output_type": "stream",
          "name": "stderr",
          "text": [
            "[nltk_data] Downloading package punkt to /root/nltk_data...\n",
            "[nltk_data]   Package punkt is already up-to-date!\n"
          ]
        }
      ]
    },
    {
      "cell_type": "code",
      "source": [
        "# Remove stopwords from the given text\n",
        "\n",
        "nltk.download('stopwords')\n",
        "stopwords = nltk.corpus.stopwords.words('english')\n",
        "def remove_stopwords(text):\n",
        "    output = [i for i in text if i not in stopwords]\n",
        "    return output"
      ],
      "metadata": {
        "colab": {
          "base_uri": "https://localhost:8080/"
        },
        "id": "lceCzC8hjrX-",
        "outputId": "4bd9ad53-d529-4066-e93b-e3060c961c84"
      },
      "execution_count": 14,
      "outputs": [
        {
          "output_type": "stream",
          "name": "stderr",
          "text": [
            "[nltk_data] Downloading package stopwords to /root/nltk_data...\n",
            "[nltk_data]   Package stopwords is already up-to-date!\n"
          ]
        }
      ]
    },
    {
      "cell_type": "code",
      "source": [
        "from nltk.stem import PorterStemmer\n",
        "ps = PorterStemmer()\n",
        "def stemming(text):\n",
        "  stem_text = [ps.stem(word) for word in text]\n",
        "  return stem_text\n"
      ],
      "metadata": {
        "id": "P1XEArlKjra6"
      },
      "execution_count": 15,
      "outputs": []
    },
    {
      "cell_type": "code",
      "source": [
        "# Lemmatize each word in the given text\n",
        "\n",
        "from nltk.stem import WordNetLemmatizer\n",
        "nltk.download('wordnet')\n",
        "wordnet_lemm = WordNetLemmatizer()\n",
        "def lemma(text):\n",
        "    lemm_text = [wordnet_lemm.lemmatize(word) for word in text]\n",
        "    return lemm_text\n"
      ],
      "metadata": {
        "colab": {
          "base_uri": "https://localhost:8080/"
        },
        "id": "sW5rMZFHo07B",
        "outputId": "66245d1b-2894-498f-f4d4-b56f6855411e"
      },
      "execution_count": 16,
      "outputs": [
        {
          "output_type": "stream",
          "name": "stderr",
          "text": [
            "[nltk_data] Downloading package wordnet to /root/nltk_data...\n",
            "[nltk_data]   Package wordnet is already up-to-date!\n"
          ]
        }
      ]
    },
    {
      "cell_type": "code",
      "source": [
        "def preprocess(df_col):\n",
        "  corpus = []\n",
        "  for item in df_col:\n",
        "    new_item = remove_pun(item)\n",
        "    new_item = new_item.lower()\n",
        "    new_item = tokenize(new_item)\n",
        "    new_item = remove_stopwords(new_item)\n",
        "    new_item = lemma(new_item)\n",
        "    corpus.append(' '.join(str(x) for x in new_item))\n",
        "  return corpus"
      ],
      "metadata": {
        "id": "9l0t6_L8DDpM"
      },
      "execution_count": 17,
      "outputs": []
    },
    {
      "cell_type": "code",
      "source": [
        "corpus = preprocess(df['review'])"
      ],
      "metadata": {
        "id": "YZzUQJKjDgpe"
      },
      "execution_count": 18,
      "outputs": []
    },
    {
      "cell_type": "code",
      "source": [
        "x = corpus\n",
        "y = df['sentiment']"
      ],
      "metadata": {
        "id": "uh92sYvvo1Ga"
      },
      "execution_count": 19,
      "outputs": []
    },
    {
      "cell_type": "code",
      "source": [
        "# Split the data into training and testing sets\n",
        "\n",
        "from sklearn.model_selection import train_test_split\n",
        "x_train, x_test, y_train, y_test = train_test_split(x, y, test_size=0.2, random_state=42)"
      ],
      "metadata": {
        "id": "8U3GUV5DEXiy"
      },
      "execution_count": 20,
      "outputs": []
    },
    {
      "cell_type": "code",
      "source": [
        "x_train"
      ],
      "metadata": {
        "colab": {
          "base_uri": "https://localhost:8080/"
        },
        "id": "62JbiUUjFKEA",
        "outputId": "36b78e5f-4b5b-4851-b046-a9ae662de118"
      },
      "execution_count": 21,
      "outputs": [
        {
          "output_type": "execute_result",
          "data": {
            "text/plain": [
              "23311                                                                                                                                                                                                                                                                                                                                                                                                                                                                                                                                                                                                                                                                                                                                                                                                               movie plain dumbr br casting ralph meker mike hamer fatuous climax film exercise woden predictabilitybr br mike hamer one detective fiction true sociopath unlike marlow spade put piece together solve mystery hamer break thing apart get truth film turn hamer bob surounding bad guy wel dumb get away anything one porly drawn sucumbs popcorn atackbr br part movie right thre stoges play bok veldas dance bare instance bad guy acidentaly stab bos back continuity break shameful frau blucher runing centerline road camera tight lower leg shes way side camera pul back wider shot worst break however precedes popcorn atack bad guy stalking hamer pas clock second hero except clock show seven minute behind guybr br fair interesting camera angle lighting grand finale bad must ben sen reason get two point 10\n",
              "23623                                                                                                                                                                                                                                                                                                                                                                                                                                                                                                                                                                                                                                                                                                                                                                                                                                                                                                                                                                                                                                          dahmer young confused man dahmer confusing movie granted bers watching movie doesnt explain got bored flickbr br flashback nothing confusing anoying there real storyline begining end thing made sense movie explaining text begining end movie inbetwen stuf would movie boring image waste time br br never se actual murder everything bunch insinuation sometimes even get feling dahmers dreaming entire thing know isnt since itsbr br based true story actualy hapened least hapened easy telbr br encourage people waste time movie ibr br didnt like one bit felt cheated sudenly ended br br\n",
              "1020                                                                                                                                                                                                                                                                                                                                                                                                                                                                                                                                                                                                                                                                                                                                                                                                                                                                                                                                                                                                                      may saint preserve u movie going helpbr br someone ace neds email mel gibson tel ned faithful production beowulf something actualy something comon epic poem foundation al modern western literaturebr br recent since 20 version beowulf make wonder two thing first much interest story second al filmakers squandering mountain cash crapbr br reason got two version lambert beowulf 20 worse neded 1br br even worse people wil watch get wrong idea poem industry peter jackson get literary conversion film right get wrong mean realy roman forum model heorot muchbr br please horn helmet spare insultingbr br hjm\n",
              "12645    combination reading novela viewing film inspired wife new level recently pondering statement made artist thomas kinkade one inspirational boks state designed breathe fetid air five oclock trafic think god banal television program medium hype worthles purchase soul polution mind created universe hadnt sen river run couple year pondering kinkades statement something drew watch film spiritual eye watched saw whole new world film inspired read bok must read always ben frustrated southern california somehow got caught materialistic society film realy put perspective realy experience god creation combination macleans story desire move back northwest driven move montana want future kid able rome landscape go flyfishing ride horse nothing open land serene lake set mountainside place seldom wory crime lok around socal al se shoping mals rude snarling people mercedez ben mile vehicle congested freways gang racial turmoil verge violent eruption everyone skeptical others intentionsbr br anyway movie inspiring briliant acting dep story fragile conections loved one lot dep thinking film scenery worth seing alone actualy help relieve tension finish film relaxed yet ful insight life take compasionate inteligent spiritual person realy grasp meaning dont understand art cinema director achieves goal dialogue tone light colour scenery camera anglesmovement etc film probably crowd think fast furious greatest film granted entertaining shalowbr br botom line film help realize life much money thing pose rather relationship family friend experience share together quality qauntity\n",
              "1533                                                                                                                                                                                                                                                                                                                                                                                                                                                                                                                                                                                                                                                                                                                                                                                                                                                                                                                                                                                                                                                                                                                                                                                                                                                                                                                                            daniel day lewis left fot give u one best performance ever actor briliant christy brown man cerebral palsy learned write paint left fot wel deserved oscar brenda fricker play loving mother hugh oconer terific younger christy brown ray mcanaly great father worth watching outstanding performance\n",
              "                                                                                                                                                                                                                                                                                                                                                                                                                                                                                                                                                                                                                                                                                                                                                                                                                             ...                                                                                                                                                                                                                                                                                                                                                                                                                                                                                                                                                                                                                                                                                                                                                                                                                      \n",
              "21575                                                                                                                                                                                                                                                                                                                                                                                                                                                                                                                                                                                                                                                                                                                                                                                                                                                                                                                                                                                                                                                                                                                                                                                                                                                                                                  distasteful cliched thriler young couple croscountry research america infamous murder site becoming road partner dimwited young woman snarling boyfriendwho actual psycho arty alienating film tone alternate betwen pouty pseudoirony sily flamboyance handsomelymade perhaps ultimately laughable brad pit performance lowrent kiler godawful\n",
              "5390                                                                                                                                                                                                                                                                                                                                                                                                                                                                                                                                                                                                                                                                                                                                           stewart wyoming catleman dream make enough money buy smal ranch utah ranch real companion sidekick ben tatum great walter brenan acomplish drive catle clear alaska dawson canadian teritory sel thembr br along way met man run goldcrazy town behind dishonest lawman john mcintire atempts steal herd later dawson mcintire gang reapear time interfering stewart gold claim br br captured man camera wonderful scenery canadian rockies stewart thoughtful loner forced violence ned get rid treacherous action corupt entrepreneur robing local miner claim br br entertaining beautiful western stewart two leading lady strugle ruth roman bit valuable describe sexy woman resisting worst vicisitudes teritory docile french canadian girl corine calvet create nice portrait likable girl ability form judgment spontaneous maner stewart lost betwen ostentatious salon owner wifecandidate\n",
              "860                                                                                                         1928 many way lost year motion picture finest film silent era made every genre sound coming reaping great profit box ofice seting art filmaking back five year film industry strugled new technologybr br show people one great silent era comedy film show wiliam haines comic skils beyond usual formula obnoxious overconfident guy turn everyone learns leson redems wining fotbal game polo game etc movie also exhibit ilustrating marion davy susan alexander kane excelent comic instinct timing film start beverly hilbilieslike adventure pegy peper marion davy father general marmaduke oldfish peper fresh old south general peper decided wil let lucky movie studio executive hire daughter actres studio comisary pepers run bily bone wiliam haines slapstick comedian get pegy acting job shes unhapy find slapstick perseveres eventualy discovered large studio bily part way begin take dramatic role son newfound fame go head lose public gain royal title decides mary new leading man doesnt realy love unles fate somehow intervenesbr br one thing mgm frequently late silentera film early soundera film feature shot filmaking done mgm circa 1930 film one get charlie chaplin trying get pegys autograph abundance cameo mgm player era including director king vidor even cameo marion davy pegy seing marion davy marion davy ariving work lot pegy grimace mention doesnt care truly delight start finish silent definitely worth one film also recomend use introduce people art silent cinema acesible\n",
              "15795                                                                                                                                                                                                                                                                                                                                                                                                                                                                                                                                                                                                                                                                                                                                                                                                                                                                                                                                                                                                                                                                                                                                                                                                                                                                                                                                 felt film throughout impresed rusel crowes talent developing relationship lilie typical ausie blend softly softly aproach bit self depreciating persistent realy loved cinematography direction pace right portrayal nearly al character impresivebr br gosh didnt rusels talent even 193 shine yet se gladiator\n",
              "23654                                                                                                                                                                                                                                                                                                                                                                                                                                                                                                                                                                                                                                                                                                                                                                                                                                                                                                                                                                                                                                                                                             intention director film quite honorable history production get aware might get much core like film maker would keping great 30 day tv series mind also counting mtv production bet wil oposes seriousnes mater document also counting rather disapointing production supersize hope high sadly enough movie disapointed none le supersize ask exactly point al main statement get clear enough half hour rest playtime get filed rather pointles stuf rerepeating stuf already shown way another earlier movie wear get extremely boring towards end\n",
              "Name: review, Length: 20000, dtype: object"
            ]
          },
          "metadata": {},
          "execution_count": 21
        }
      ]
    },
    {
      "cell_type": "markdown",
      "source": [
        "**Bag-of-Words**"
      ],
      "metadata": {
        "id": "17_fIA7DEesX"
      }
    },
    {
      "cell_type": "code",
      "source": [
        "from sklearn.feature_extraction.text import CountVectorizer\n",
        "\n",
        "cv = CountVectorizer(stop_words = \"english\", min_df = 10, max_df=200, max_features = 2000)"
      ],
      "metadata": {
        "id": "SNidYOPSDuU3"
      },
      "execution_count": 22,
      "outputs": []
    },
    {
      "cell_type": "code",
      "source": [
        "#parse matrix to numpy array to_array\n",
        "x_train_bow = cv.fit_transform(x_train).toarray()\n",
        "x_test_bow = cv.transform(x_test).toarray()"
      ],
      "metadata": {
        "id": "z5go4eZPDuuU"
      },
      "execution_count": 23,
      "outputs": []
    },
    {
      "cell_type": "code",
      "source": [
        "print(cv.vocabulary_)"
      ],
      "metadata": {
        "colab": {
          "base_uri": "https://localhost:8080/"
        },
        "id": "CNPi4SDTDu8S",
        "outputId": "0af0f954-578f-40e0-fd87-36d6d30792c5"
      },
      "execution_count": 24,
      "outputs": [
        {
          "output_type": "stream",
          "name": "stdout",
          "text": [
            "{'ralph': 1412, 'exercise': 632, 'solve': 1655, 'surounding': 1762, 'popcorn': 1328, 'acidentaly': 46, 'continuity': 388, 'tight': 1828, 'lower': 1075, 'leg': 1036, 'pas': 1281, 'grand': 779, 'finale': 685, 'granted': 782, 'text': 1801, 'saint': 1535, 'ace': 39, 'mel': 1121, 'faithful': 661, 'mountain': 1168, 'cash': 285, 'jackson': 954, 'roman': 1515, 'combination': 356, 'statement': 1695, 'thomas': 1813, 'designed': 496, 'program': 1372, 'hype': 887, 'worthles': 1989, 'universe': 1900, 'river': 1505, 'drew': 550, 'spiritual': 1675, 'frustrated': 734, 'southern': 1660, 'california': 260, 'creation': 424, 'driven': 553, 'montana': 1161, 'landscape': 1019, 'lake': 1018, 'wory': 1991, 'inspiring': 923, 'insight': 920, 'goal': 765, 'colour': 354, 'crowd': 432, 'pose': 1335, 'daniel': 457, 'lewis': 1046, 'fot': 718, 'brown': 240, 'learned': 1033, 'paint': 1269, 'loving': 1073, '205': 22, 'rusian': 1529, 'ofensive': 1238, 'symbolism': 1771, 'chalenge': 298, 'setup': 1584, 'conversation': 396, 'condition': 374, 'vilage': 1924, 'enjoyment': 598, 'endearing': 594, 'national': 1184, 'hunt': 884, 'ema': 587, 'exposed': 646, 'paris': 1277, 'refreshing': 1437, 'strets': 1718, 'included': 904, 'rachel': 1404, 'cok': 350, 'bary': 154, 'parker': 1278, 'bruce': 241, 'merit': 1127, 'touched': 1845, 'redemption': 1435, 'advice': 59, 'catholic': 289, 'vicious': 1919, 'faced': 654, 'notably': 1216, 'marie': 1101, 'priest': 1360, 'interpretation': 934, 'hitchcock': 855, 'charge': 305, 'source': 1659, 'critical': 430, 'asking': 124, 'conect': 375, 'entertained': 603, 'robin': 1507, 'pity': 1313, 'prom': 1374, 'clichéd': 337, 'jumping': 985, 'closet': 342, 'unexpected': 1889, 'sucesfuly': 1742, 'convention': 394, 'heroine': 843, 'ocur': 1234, 'psycho': 1388, 'whilst': 1967, 'kilers': 1001, 'progres': 1373, 'object': 1227, 'path': 1285, 'investigate': 937, 'embarasing': 589, 'performing': 1296, 'julia': 983, 'sumary': 1752, 'turner': 1875, 'clasics': 334, 'clean': 335, 'pat': 1284, 'bone': 205, 'factor': 656, 'scale': 1549, 'ron': 1516, 'gofy': 768, 'murphy': 1175, 'height': 835, 'peak': 1290, 'fx': 743, 'sureal': 1759, 'overloked': 1261, 'brave': 218, 'weks': 1960, 'pleased': 1321, '17': 3, 'post': 1337, 'magazine': 1091, 'unforgetable': 1890, 'santa': 1542, 'buying': 255, 'string': 1722, 'theyve': 1809, 'sale': 1537, 'hank': 816, 'hal': 805, 'crafted': 418, 'perfection': 1292, 'contrast': 391, 'setings': 1583, '1930s': 8, 'gangster': 747, 'protect': 1381, 'briliantly': 230, 'experienced': 636, 'jean': 962, 'gentle': 754, 'skil': 1633, 'craft': 417, 'joan': 974, 'sharp': 1595, 'requires': 1473, 'lawyer': 1029, '710': 32, 'gift': 759, 'gota': 775, 'received': 1433, 'legendary': 1037, 'stoped': 1710, 'caried': 278, 'flor': 698, 'bag': 148, 'ber': 174, 'university': 1901, 'represents': 1470, 'magical': 1092, 'birthday': 183, 'winter': 1977, 'snow': 1648, 'pretend': 1353, 'built': 245, 'tre': 1859, 'served': 1581, 'cave': 291, 'trek': 1862, 'lucas': 1076, 'filmsbr': 684, 'trilogy': 1867, 'practicaly': 1342, 'entertain': 602, 'dolars': 535, 'contain': 383, 'department': 485, 'gory': 774, 'specific': 1666, 'eat': 569, 'dubing': 560, 'stranger': 1715, 'introduction': 936, 'warned': 1946, 'stomach': 1709, 'pride': 1359, 'harsh': 823, 'nation': 1183, 'india': 907, 'gandhi': 746, 'sacrifice': 1532, 'achieve': 43, 'fredom': 727, 'proved': 1384, 'naturaly': 1186, 'weding': 1957, 'torn': 1843, 'silence': 1617, 'pushed': 1398, 'pushing': 1399, 'user': 1910, 'strugling': 1729, 'rain': 1409, 'caine': 259, 'briliance': 229, 'heston': 844, 'stared': 1693, '202': 19, 'expensive': 635, 'dated': 463, 'nowadays': 1222, 'chuck': 325, 'joseph': 980, 'edward': 575, 'wana': 1941, 'moron': 1165, 'host': 878, 'hatred': 826, 'unfortunate': 1891, 'idiotic': 895, 'bible': 179, 'fred': 726, 'daily': 450, 'spech': 1665, 'ideal': 892, 'religion': 1451, 'teach': 1784, 'jerk': 966, 'simon': 1620, 'sin': 1622, 'el': 579, 'tape': 1778, 'cruise': 435, 'neighbor': 1194, 'remark': 1455, 'excited': 627, 'border': 206, 'angel': 101, 'andy': 99, 'philip': 1299, 'hofman': 859, 'perform': 1293, 'relative': 1446, 'etcbr': 615, 'thrilers': 1818, 'honor': 870, 'albert': 76, 'intensity': 929, 'nail': 1179, 'timing': 1833, 'comercial': 360, 'kudos': 1012, 'welbr': 1961, 'unlikely': 1902, 'losing': 1069, 'fate': 671, 'cuting': 448, 'ran': 1414, 'mexico': 1133, 'sentence': 1574, 'serf': 1578, 'sidney': 1615, '196': 11, 'afternon': 64, 'network': 1199, 'unbelievably': 1882, 'dean': 470, 'gain': 745, 'method': 1130, 'mentaly': 1125, 'slave': 1640, 'efectively': 576, '193': 7, 'quest': 1401, 'claire': 332, 'ane': 100, 'alike': 82, 'dorothy': 539, 'pal': 1272, 'unintentionaly': 1895, 'contact': 382, 'learns': 1035, 'carying': 284, 'guard': 797, 'sher': 1599, 'realizes': 1427, 'destroy': 499, 'curently': 442, 'repeated': 1464, 'develop': 503, 'walked': 1936, 'expres': 647, '198': 15, 'rank': 1417, 'universal': 1899, 'tenager': 1791, 'largely': 1021, 'ape': 108, 'incident': 903, 'related': 1444, 'homage': 866, 'shadow': 1588, 'fet': 678, 'fictional': 679, 'remote': 1459, 'range': 1415, 'stretch': 1717, 'boredom': 208, 'spectacular': 1667, '310': 28, 'pilot': 1310, 'combined': 358, 'therebr': 1806, 'shop': 1607, 'virgin': 1927, 'mixed': 1154, 'size': 1631, 'helicopter': 837, 'flight': 696, 'upset': 1905, 'pan': 1273, 'albeit': 75, 'tim': 1830, 'nonetheles': 1210, 'gold': 769, 'canadian': 266, 'health': 829, 'moviesbr': 1170, 'demon': 481, 'japan': 958, 'sleping': 1642, 'budy': 243, 'jealous': 961, 'boat': 200, 'hiding': 845, 'bridge': 226, 'handle': 811, 'sword': 1770, 'caries': 279, 'wity': 1981, 'trap': 1856, 'prevent': 1355, 'evidence': 621, 'irish': 943, 'ordinary': 1250, 'circle': 328, 'bomb': 204, 'sexualy': 1587, 'jail': 955, 'table': 1774, 'trio': 1868, 'charismatic': 307, 'sel': 1568, 'iner': 910, 'thug': 1823, 'section': 1563, 'painting': 1270, 'purely': 1395, 'resolution': 1479, 'maria': 1100, 'bal': 150, 'jon': 979, 'balance': 151, 'reader': 1423, 'superhero': 1756, 'batman': 162, 'blair': 187, 'basis': 158, 'mitchel': 1153, 'altime': 87, 'latest': 1024, 'pleasantly': 1320, 'rot': 1518, 'loser': 1068, 'reunion': 1485, 'welcome': 1962, 'absence': 37, 'pleasant': 1319, 'victor': 1920, 'steven': 1702, 'blend': 191, 'formula': 713, 'league': 1032, 'captured': 271, 'clark': 333, 'blown': 196, 'faith': 660, 'thankfuly': 1802, 'oliver': 1242, 'pro': 1368, 'credibility': 426, 'reduced': 1436, 'rubish': 1524, 'lugosi': 1082, 'mexican': 1132, 'dubed': 559, 'reminiscent': 1458, 'seventy': 1585, 'alen': 78, 'karlof': 991, 'wide': 1970, 'curse': 445, 'jr': 982, 'finest': 686, 'courage': 410, 'broke': 236, 'gona': 772, 'discusion': 525, 'vhs': 1918, 'influence': 913, 'nick': 1202, 'cage': 258, 'denis': 482, 'hoper': 873, 'flyn': 701, 'discovery': 523, 'godbr': 766, 'germany': 758, 'radio': 1407, 'nazi': 1188, 'politics': 1327, 'serve': 1580, 'code': 347, 'broadcast': 234, 'repeatedly': 1465, 'biter': 185, 'fairy': 659, 'sends': 1572, 'existence': 633, 'identity': 894, 'ancient': 95, 'racist': 1406, 'dentist': 483, 'beaten': 166, 'beloved': 172, 'returned': 1483, 'trial': 1864, 'humanity': 882, 'cel': 292, 'fiften': 680, 'irony': 948, 'spite': 1676, 'patient': 1286, 'sole': 1653, 'curious': 444, 'depresion': 490, 'youth': 1998, 'holding': 861, 'explosion': 645, 'kate': 992, 'tobr': 1837, 'prepared': 1348, 'nut': 1226, 'renting': 1462, 'alright': 86, 'listed': 1059, 'item': 952, 'italy': 951, 'international': 932, 'site': 1630, 'regret': 1442, 'origin': 1251, 'spoilersbr': 1682, 'spoky': 1684, 'castle': 286, 'resembles': 1477, 'shining': 1602, 'brand': 216, 'supernatural': 1758, 'teror': 1797, 'multiple': 1172, 'uncle': 1883, 'prop': 1376, 'leser': 1040, 'achievement': 45, 'budies': 242, 'deadly': 468, 'servant': 1579, 'entry': 604, 'golden': 771, 'keping': 997, 'sentimental': 1576, 'discus': 524, 'grant': 781, 'douglas': 541, 'intent': 930, 'laurel': 1027, 'dignity': 512, 'properly': 1379, 'recognize': 1434, 'tiny': 1835, 'vilains': 1925, 'destruction': 501, 'remain': 1453, 'atitude': 134, 'slight': 1643, 'grim': 789, 'glory': 763, 'voight': 1932, 'figured': 682, 'isbr': 949, 'junk': 987, 'sean': 1559, 'mebr': 1119, 'lay': 1030, 'survivor': 1764, 'anie': 103, 'mat': 1109, 'helping': 838, 'tie': 1826, 'wake': 1934, 'ed': 571, 'wod': 1983, 'reputation': 1471, 'hanging': 815, 'punch': 1393, 'returning': 1484, 'buried': 247, 'quen': 1400, 'amateurish': 90, 'aint': 70, 'haunting': 828, 'atmospheric': 135, 'website': 1955, 'morning': 1164, 'link': 1055, 'outbr': 1253, 'holy': 865, 'surounded': 1761, 'gut': 803, 'glover': 764, 'subsequent': 1736, 'screning': 1554, 'directly': 516, 'crash': 421, 'apropriate': 113, 'magnificent': 1093, 'evident': 622, 'fed': 676, 'titanic': 1836, 'quirky': 1402, 'tenagers': 1792, 'fredy': 728, 'leting': 1045, 'lisa': 1058, 'spark': 1663, 'odly': 1236, 'expert': 638, '3d': 29, 'storyteling': 1713, 'gros': 792, 'digital': 511, 'theatrical': 1804, 'disc': 520, 'wes': 1965, 'craven': 422, 'darker': 461, 'arnold': 119, 'johny': 977, 'alice': 81, 'coper': 401, 'carpenter': 282, 'madnes': 1089, 'motif': 1166, 'engaged': 596, 'gradualy': 778, 'ma': 1088, 'altogether': 88, 'endles': 595, 'caricature': 277, 'slapstick': 1639, 'celuloid': 294, 'finger': 687, 'reveals': 1489, 'measure': 1117, 'strip': 1723, 'obsesion': 1231, 'teritory': 1796, 'onebr': 1245, '16': 2, 'dire': 515, 'conection': 377, 'chosen': 322, 'description': 494, 'clip': 339, 'wit': 1979, 'delight': 476, 'max': 1115, 'naive': 1180, '1st': 17, 'round': 1520, 'admire': 55, 'rol': 1513, 'strictly': 1719, 'acurate': 50, 'described': 493, 'friday': 731, 'opened': 1247, 'amazed': 91, 'stayed': 1697, 'disbelief': 519, 'confusion': 378, 'screnwriter': 1555, 'bringing': 231, 'jewish': 972, 'portion': 1330, 'pol': 1324, 'ton': 1840, 'fame': 665, 'blind': 192, 'spends': 1671, 'heck': 833, 'instalment': 924, 'policeman': 1325, 'lion': 1056, 'gate': 751, 'holmes': 863, 'edie': 572, 'eric': 607, 'infamous': 912, 'instinct': 926, '14': 1, '206': 23, 'president': 1351, 'united': 1898, 'service': 1582, 'operation': 1248, 'sutherland': 1767, 'rival': 1504, 'eva': 617, 'winer': 1975, 'kim': 1003, 'sarah': 1543, 'concern': 371, 'timeles': 1831, 'gene': 752, 'kely': 994, 'stylish': 1733, 'em': 586, '25': 27, 'test': 1798, 'abuse': 38, 'raise': 1410, 'lip': 1057, 'secretary': 1562, 'apreciated': 112, 'sufers': 1748, 'hearing': 830, 'hire': 853, 'thief': 1810, 'lifebr': 1049, 'storybr': 1712, 'vincent': 1926, 'typicaly': 1878, 'luck': 1077, '810': 33, 'satan': 1544, 'traped': 1857, 'rage': 1408, 'east': 568, 'flash': 692, '19': 5, 'underground': 1887, 'nedles': 1193, 'bmovie': 197, 'logic': 1064, 'explained': 639, 'overthetop': 1263, 'subtlety': 1739, 'dreadful': 547, 'hoked': 860, 'bc': 163, 'canada': 265, 'witnes': 1980, 'believed': 169, 'devil': 506, 'mst3k': 1171, 'presumably': 1352, 'hang': 814, 'jesus': 970, 'min': 1144, 'board': 199, 'nonexistent': 1211, 'sensitive': 1573, 'equal': 606, 'worldbr': 1988, 'sport': 1685, 'underated': 1886, 'bolywod': 203, '194': 9, 'blockbuster': 194, 'highest': 847, 'silver': 1618, 'aid': 68, 'neil': 1196, 'walter': 1940, 'mathau': 1111, 'burn': 248, 'nurse': 1225, 'howard': 879, 'montage': 1160, 'cup': 440, 'tea': 1783, 'huh': 881, 'lovable': 1072, 'enters': 601, 'noir': 1205, 'laura': 1026, 'andrew': 98, 'sufering': 1747, 'base': 155, 'beating': 167, 'alows': 85, 'weve': 1966, 'motivation': 1167, 'duo': 563, 'strangely': 1714, 'acepted': 42, 'christ': 323, 'raised': 1411, 'tortured': 1844, 'duty': 564, '910': 34, 'holiday': 862, 'marshal': 1103, 'bel': 168, 'ruined': 1525, 'dresed': 549, 'lary': 1023, 'waybr': 1951, 'frequently': 730, 'rough': 1519, 'suceds': 1741, 'lowbudget': 1074, 'christian': 324, 'portray': 1332, 'breaking': 220, 'asociated': 126, 'guilty': 802, 'proper': 1378, 'ultimate': 1880, 'regard': 1439, 'push': 1397, 'recal': 1431, 'briefly': 227, 'isue': 950, 'comunity': 370, 'practice': 1343, 'damage': 451, 'milions': 1143, 'flower': 700, 'grows': 795, 'searching': 1560, 'scripted': 1556, 'writerdirector': 1995, 'everyday': 620, 'urge': 1907, 'skils': 1634, 'suspenseful': 1766, 'mision': 1152, 'pointed': 1323, 'tend': 1793, 'widmark': 1971, 'fbi': 674, 'cia': 326, 'refuse': 1438, 'obscure': 1229, 'savage': 1548, 'lust': 1084, 'switch': 1769, 'notorious': 1221, 'revolves': 1493, 'beast': 165, 'murdered': 1173, 'bride': 225, 'knowledge': 1008, 'paper': 1275, 'sophisticated': 1656, 'sinister': 1626, 'britain': 232, 'combine': 357, 'spanish': 1662, 'tradition': 1851, 'amazingly': 92, 'depiction': 488, '1970s': 14, 'gothic': 776, 'jaw': 959, 'chiling': 318, 'mansion': 1098, 'pretentious': 1354, 'insulting': 927, 'forgetable': 709, '210': 25, 'corect': 403, 'worker': 1987, 'darknes': 462, 'research': 1475, 'profesor': 1370, 'mathew': 1112, 'walker': 1938, 'performed': 1294, 'experiment': 637, 'foster': 717, 'uwe': 1912, 'bol': 202, 'target': 1779, 'aged': 66, 'brazil': 219, 'astaire': 127, 'rogers': 1512, 'tune': 1873, 'virtualy': 1928, 'mustse': 1178, 'scarecrow': 1550, 'rebel': 1430, 'paced': 1264, 'convince': 398, 'grab': 777, 'atacked': 130, 'broad': 233, 'ocean': 1233, 'surface': 1760, 'emotionaly': 591, 'dragon': 545, 'hired': 854, 'tower': 1847, 'atraction': 137, 'spel': 1669, 'split': 1678, 'technique': 1786, 'asume': 128, 'cgi': 295, 'dom': 536, 'thriling': 1819, 'superman': 1757, 'atrocious': 138, 'unconvincing': 1885, 'airplane': 72, 'timesbr': 1832, 'seagal': 1558, 'dawn': 466, 'crude': 433, 'celebrity': 293, 'journalist': 981, 'grown': 794, 'dany': 458, 'jef': 963, 'continues': 387, 'evening': 619, 'relevant': 1448, 'belongs': 171, 'oil': 1241, 'kong': 1009, 'benefit': 173, 'technology': 1787, 'bothered': 210, 'comited': 363, 'covered': 413, 'bush': 253, 'depicted': 487, 'status': 1696, 'yesterday': 1996, 'foreign': 707, 'circumstance': 329, 'relation': 1445, 'clothing': 345, 'freak': 725, 'herebr': 841, 'wave': 1950, 'laughter': 1025, 'nancy': 1181, 'throat': 1821, 'kevin': 998, 'category': 287, 'corpse': 406, 'ocasional': 1232, 'blah': 186, 'lacked': 1016, 'threatening': 1815, 'uncomfortable': 1884, 'soviet': 1661, 'fare': 667, 'destroyed': 500, 'similarity': 1619, 'rescue': 1474, 'mon': 1157, 'shocked': 1605, 'ex': 623, 'load': 1062, 'leslie': 1041, 'roger': 1511, 'exists': 634, 'rocket': 1510, 'controversial': 393, 'hamlet': 809, 'intelectual': 928, 'sexuality': 1586, 'ingredient': 914, 'psychological': 1389, 'zone': 1999, 'explore': 644, 'environment': 605, 'cube': 438, 'bug': 244, 'sped': 1668, 'viewed': 1923, 'elderly': 581, 'gentleman': 755, 'fatal': 670, 'failing': 658, 'crisis': 429, 'principal': 1362, 'melodrama': 1122, 'hysterical': 888, 'mouse': 1169, 'punk': 1394, 'format': 712, 'robot': 1508, 'civil': 331, 'replaced': 1467, 'rip': 1499, 'previously': 1357, 'established': 612, 'matrix': 1113, 'driving': 555, '18': 4, 'cousin': 412, 'prostitute': 1380, 'guesing': 798, 'stock': 1706, 'australia': 140, 'australian': 141, 'tarzan': 1780, 'featured': 675, 'advantage': 58, 'inspiration': 922, 'disease': 526, 'listening': 1060, 'lucky': 1079, 'par': 1276, 'aslep': 125, 'twisted': 1877, 'disgusting': 527, 'competent': 365, 'involves': 942, 'toy': 1848, 'forgive': 710, 'barbara': 153, 'edited': 573, 'tracy': 1849, 'overdone': 1260, 'stunt': 1731, 'chinese': 320, 'unrealistic': 1903, 'noted': 1218, 'france': 721, 'inevitable': 911, 'consequence': 379, 'afected': 60, 'holow': 864, 'shoulder': 1608, 'farm': 668, 'spring': 1686, 'charactersbr': 304, 'humorous': 883, 'saturday': 1547, 'midnight': 1137, 'riped': 1500, 'pile': 1309, 'strike': 1720, 'proud': 1382, 'standing': 1690, 'depresing': 489, 'shel': 1597, 'ocurs': 1235, 'rap': 1418, 'safe': 1534, 'sympathetic': 1772, 'position': 1336, 'rose': 1517, 'guilt': 801, 'hapines': 818, 'speaks': 1664, 'dres': 548, 'esence': 610, 'prefer': 1346, 'falk': 663, 'poignant': 1322, 'sitcom': 1629, 'task': 1781, 'elizabeth': 583, 'bet': 175, 'relate': 1443, 'technicaly': 1785, 'camerawork': 262, 'anoyed': 105, 'flawed': 693, 'thisbr': 1812, 'sold': 1652, 'closing': 344, 'ignored': 897, 'halowen': 807, 'convinced': 399, 'rental': 1461, 'risk': 1502, 'virus': 1929, 'rid': 1496, 'san': 1540, 'francisco': 723, 'theory': 1805, 'investigation': 938, 'companion': 364, 'pig': 1308, 'prior': 1364, 'aceptable': 41, 'characterization': 303, 'initial': 915, 'atempted': 132, 'gas': 750, 'ignore': 896, 'fil': 683, 'dona': 537, 'ward': 1943, 'conventional': 395, 'reached': 1422, '1960s': 12, 'jackie': 953, 'card': 272, 'dealt': 469, 'knife': 1006, 'response': 1480, 'curtis': 446, 'prize': 1367, 'miler': 1142, 'degre': 475, 'arested': 114, 'pie': 1307, 'shake': 1589, 'pasing': 1283, 'abandoned': 35, 'mil': 1138, 'spending': 1670, 'concert': 373, 'drinking': 552, 'expresion': 648, 'uninteresting': 1896, 'invisible': 939, 'argument': 116, 'shalow': 1592, 'skin': 1635, 'distance': 529, 'ironicaly': 947, 'cliche': 336, 'broks': 239, 'homeles': 867, 'cinderela': 327, 'drawing': 546, 'peace': 1289, 'revolution': 1491, 'lifestyle': 1050, 'ensemble': 599, 'obsesed': 1230, 'pit': 1311, 'terifying': 1795, 'fourth': 720, 'seking': 1567, 'stif': 1704, 'miracle': 1148, 'wanabe': 1942, 'admitedly': 56, 'stewart': 1703, 'partly': 1280, 'tour': 1846, 'bat': 159, 'sherif': 1600, 'iritating': 944, 'esential': 611, 'sek': 1566, 'security': 1564, 'creates': 423, 'pound': 1339, 'kidnaped': 1000, 'execution': 630, 'horendous': 874, 'ashamed': 121, 'goldberg': 770, 'stink': 1705, 'prime': 1361, 'pet': 1298, 'hardcore': 819, 'uk': 1879, 'cruel': 434, 'acents': 40, 'prove': 1383, 'union': 1897, 'horibly': 875, 'navy': 1187, 'amateur': 89, 'facial': 655, 'convey': 397, 'wayne': 1952, 'spielberg': 1672, 'timothy': 1834, 'andor': 97, 'print': 1363, 'bleak': 190, 'population': 1329, 'grew': 787, 'forest': 708, 'beterbr': 177, 'survive': 1763, 'delightful': 477, 'fury': 741, 'inspector': 921, 'gadget': 744, 'miserably': 1151, 'visualy': 1931, 'frightening': 733, 'childrens': 317, 'painfuly': 1268, 'china': 319, 'contrary': 390, 'tap': 1777, 'cried': 428, 'price': 1358, 'cable': 257, 'praise': 1344, 'downright': 542, 'delivered': 478, 'subtitle': 1738, 'market': 1102, 'noticed': 1219, 'blonde': 195, 'retarded': 1482, 'credible': 427, 'excitement': 628, 'guide': 800, 'rambo': 1413, 'lab': 1015, 'extent': 651, 'badbr': 147, 'closeup': 343, 'involvement': 941, 'deper': 486, 'mob': 1155, 'herbr': 840, 'kung': 1013, 'quote': 1403, 'pulp': 1392, 'aka': 73, 'usa': 1908, 'warner': 1947, 'north': 1213, 'extended': 650, 'captain': 270, 'mask': 1108, 'eve': 618, 'susan': 1765, 'directorial': 517, 'debut': 472, 'craig': 419, 'transformation': 1854, 'initialy': 916, 'miscast': 1150, 'threat': 1814, 'physicaly': 1304, 'blank': 189, 'notion': 1220, 'ship': 1603, 'aired': 71, 'babe': 145, 'ruth': 1530, 'complexity': 368, 'manager': 1096, 'understod': 1888, 'exploit': 642, 'basebal': 156, 'anderson': 96, 'keneth': 996, 'interaction': 931, 'branagh': 215, 'jery': 967, 'cameron': 263, 'sky': 1637, 'halfway': 806, 'lying': 1085, 'unable': 1881, 'stelar': 1700, 'chan': 299, 'dame': 452, 'wilson': 1974, 'definite': 474, '203': 20, 'hat': 825, 'non': 1209, 'draged': 544, 'topic': 1841, 'monk': 1158, 'fat': 669, 'uter': 1911, 'danger': 456, 'frankly': 724, 'spoiled': 1681, 'dare': 459, 'reasonably': 1429, 'sake': 1536, 'stronger': 1724, 'muslim': 1177, 'native': 1185, 'send': 1571, 'mesages': 1128, 'throwing': 1822, 'onbr': 1244, 'apearances': 110, 'thumb': 1824, 'candy': 267, 'crack': 416, 'creator': 425, 'fu': 736, 'countles': 409, 'expresions': 649, 'lonely': 1066, 'block': 193, 'lousy': 1071, 'bright': 228, 'grave': 784, 'useles': 1909, 'conspiracy': 381, 'desperately': 497, 'inovative': 918, 'kilings': 1002, 'satisfying': 1546, 'ken': 995, 'morgan': 1163, 'bus': 252, 'storm': 1711, 'ironic': 946, 'lane': 1020, 'persona': 1297, 'nearby': 1189, 'nuclear': 1223, 'plant': 1317, 'alowing': 84, 'erie': 608, 'outfit': 1255, 'ki': 999, 'unfuny': 1892, 'report': 1468, 'sunday': 1754, 'ticket': 1825, 'photographer': 1303, 'activity': 49, 'showbr': 1609, 'masive': 1107, 'factory': 657, 'function': 737, 'stated': 1694, 'explains': 640, 'necesarily': 1191, 'socaled': 1650, 'ryan': 1531, 'asian': 122, 'breast': 221, 'snake': 1646, 'shut': 1612, 'metal': 1129, 'crapy': 420, 'device': 505, 'convoluted': 400, 'context': 385, 'embarased': 588, 'capable': 269, 'lifetime': 1051, 'shed': 1596, 'jesica': 969, 'simpson': 1621, 'naration': 1182, 'incoherent': 905, 'caring': 280, 'vietnam': 1922, 'explicit': 641, 'swedish': 1768, 'tied': 1827, 'friendly': 732, 'charlie': 308, 'discovered': 521, 'acomplished': 47, 'fish': 689, 'dancer': 454, 'choreography': 321, 'franchise': 722, 'chese': 314, 'godfather': 767, 'catherine': 288, 'treasure': 1860, 'grow': 793, 'acused': 51, 'false': 664, 'wise': 1978, 'murderer': 1174, 'anger': 102, '410': 30, 'presentation': 1350, 'performer': 1295, 'mindles': 1145, 'sing': 1624, 'awkward': 144, 'sum': 1751, 'striking': 1721, 'ambitious': 93, 'shakespeare': 1590, 'relatively': 1447, 'batles': 161, 'henry': 839, 'derek': 492, 'seat': 1561, 'julie': 984, 'wiliams': 1973, 'lemon': 1038, 'tense': 1794, 'patrick': 1287, 'easier': 567, 'childish': 316, 'intrigue': 935, 'gary': 749, 'cole': 351, 'theyd': 1807, 'smoke': 1644, 'heavily': 832, 'dors': 540, 'veteran': 1917, 'realise': 1425, 'hed': 834, 'advance': 57, 'overly': 1262, 'concerned': 372, 'ofered': 1239, 'receive': 1432, 'treatment': 1861, 'complicated': 369, 'bulets': 246, 'revelation': 1490, 'arives': 118, 'variety': 1915, 'contract': 389, 'truck': 1872, 'leson': 1042, 'revealing': 1488, 'providing': 1386, 'mid': 1136, 'europe': 616, 'stod': 1707, 'samurai': 1539, 'trade': 1850, 'seling': 1570, 'sugests': 1749, 'sympathy': 1773, 'curiosity': 443, 'invite': 940, 'join': 978, 'oficer': 1240, 'driver': 554, 'dig': 510, 'upbr': 1904, 'louis': 1070, 'jay': 960, 'jungle': 986, 'cox': 415, 'criticism': 431, 'adapted': 52, 'haris': 822, 'dane': 455, 'revealed': 1487, 'lesons': 1043, 'glen': 761, 'oneliners': 1246, 'remotely': 1460, 'substance': 1737, 'genuinely': 757, 'gratuitous': 783, 'futuristic': 742, 'exploitation': 643, 'realism': 1426, 'nevertheles': 1200, 'suced': 1740, 'anime': 104, 'martial': 1104, 'profound': 1371, 'exagerated': 625, 'splendid': 1677, 'ala': 74, 'executed': 629, 'determined': 502, 'ridiculously': 1497, 'liberal': 1047, 'bot': 209, '13': 0, 'doc': 532, 'discovers': 522, 'sounded': 1658, 'albr': 77, 'repeat': 1463, 'rushed': 1528, 'greater': 785, 'fired': 688, 'dinosaur': 514, '24': 26, 'raped': 1419, 'soap': 1649, 'beach': 164, 'plague': 1315, 'flow': 699, 'endbr': 593, 'psychiatrist': 1387, 'importantly': 902, 'favour': 672, 'majority': 1095, 'sentiment': 1575, 'reasonable': 1428, 'regarding': 1440, 'ading': 54, 'gordon': 773, 'eating': 570, 'hod': 858, 'neat': 1190, 'campy': 264, 'ear': 566, 'fancy': 666, 'genuine': 756, 'glimpse': 762, 'believing': 170, 'hopefuly': 872, 'dol': 533, 'weles': 1963, 'citizen': 330, 'kane': 989, 'hunting': 886, 'corny': 405, 'wekend': 1959, 'cher': 312, 'donald': 538, 'mere': 1126, 'broadway': 235, 'obnoxious': 1228, 'screaming': 1553, 'pitch': 1312, 'diamond': 508, 'brad': 214, 'monkey': 1159, 'satire': 1545, 'cusack': 447, 'melodramatic': 1123, 'internet': 933, 'flop': 697, 'extraordinary': 652, 'burning': 249, 'focused': 702, 'chasing': 309, 'reporter': 1469, 'miror': 1149, 'vega': 1916, 'chair': 297, 'dick': 509, 'bird': 181, 'atacks': 131, 'diner': 513, 'shark': 1594, 'sea': 1557, 'raw': 1421, 'horors': 877, 'dear': 471, 'brian': 224, 'falen': 662, 'backdrop': 146, 'scenario': 1551, 'paying': 1288, 'struck': 1726, 'closer': 341, 'comical': 361, 'ted': 1788, 'inocence': 917, 'destiny': 498, 'notable': 1215, 'jeremy': 965, 'anthony': 106, 'bank': 152, 'acount': 48, 'sucked': 1743, 'davis': 464, 'riding': 1498, 'nelson': 1197, 'lloyd': 1061, 'wondered': 1986, 'busy': 254, 'newspaper': 1201, 'private': 1366, 'strongly': 1725, 'pacino': 1265, 'toples': 1842, 'couldve': 408, 'dude': 561, 'wed': 1956, 'sun': 1753, 'ranger': 1416, 'stumble': 1730, 'wound': 1993, 'gruesome': 796, 'soft': 1651, 'breathtaking': 223, 'grity': 791, 'knock': 1007, 'meting': 1131, 'droped': 556, 'higher': 846, 'checking': 311, 'subplots': 1735, 'mildly': 1140, 'fonda': 705, 'focusing': 703, 'horific': 876, 'religious': 1452, 'editor': 574, 'cultural': 439, 'reveal': 1486, 'lynch': 1086, 'thatbr': 1803, 'precious': 1345, 'bland': 188, 'threw': 1816, 'neck': 1192, 'heat': 831, 'ice': 890, 'library': 1048, 'fotbal': 719, 'nerd': 1198, 'exact': 624, '197': 13, 'eighty': 578, '20th': 24, 'limit': 1053, 'fisher': 690, 'remind': 1457, 'biger': 180, 'til': 1829, 'nomination': 1208, 'warm': 1944, 'puling': 1391, 'superbly': 1755, 'cynical': 449, 'rob': 1506, 'cabin': 256, 'theyl': 1808, 'ludicrous': 1081, 'pres': 1349, 'minimal': 1146, 'corner': 404, 'stereotypical': 1701, 'lyric': 1087, 'scheme': 1552, 'troubled': 1871, 'noise': 1206, 'tremendous': 1863, '45': 31, '190s': 6, 'instantly': 925, 'bourne': 212, 'himbr': 850, 'hardy': 821, 'hapily': 817, 'thrils': 1820, 'forth': 714, 'traveling': 1858, 'johnson': 976, 'musician': 1176, 'burt': 250, 'pased': 1282, 'walace': 1935, 'outrageous': 1256, 'apearing': 111, 'chief': 315, 'sir': 1628, '204': 21, 'atached': 129, 'flesh': 695, 'mainstream': 1094, 'breath': 222, 'alexander': 80, 'pregnant': 1347, 'portrait': 1331, 'contemporary': 384, 'worthwhile': 1990, 'overcome': 1259, 'larger': 1022, 'wouldve': 1992, 'curent': 441, 'hamilton': 808, 'piano': 1305, 'jenifer': 964, 'jamie': 957, 'broken': 237, 'corupt': 407, 'purple': 1396, 'competition': 366, 'masacre': 1106, 'sinatra': 1623, 'jimy': 973, 'spy': 1687, 'elaborate': 580, 'funier': 739, 'ha': 804, 'alex': 79, 'ofbr': 1237, 'forgot': 711, 'wasting': 1949, 'leter': 1044, 'glas': 760, 'alison': 83, 'bound': 211, 'atracted': 136, 'carey': 276, 'enjoying': 597, 'cowboy': 414, 'laid': 1017, 'tedious': 1789, 'oposed': 1249, 'comedian': 359, 'overacting': 1257, 'funybr': 740, 'againbr': 65, 'slap': 1638, 'erotic': 609, 'nominated': 1207, 'notch': 1217, 'dry': 558, 'apealing': 109, 'greatly': 786, 'mgm': 1134, 'reynolds': 1494, 'strugles': 1728, 'african': 63, 'conected': 376, 'disagre': 518, 'identify': 893, 'hint': 851, 'carefuly': 275, 'shine': 1601, 'continued': 386, 'racism': 1405, 'modesty': 1156, 'cared': 274, 'panic': 1274, 'toilet': 1838, 'caling': 261, 'walken': 1937, 'birth': 182, 'kurt': 1014, 'rusel': 1526, 'training': 1853, 'colonel': 352, 'importance': 901, 'ripof': 1501, 'executive': 631, 'joey': 975, 'provided': 1385, 'shoe': 1606, 'pack': 1266, 'prisoner': 1365, 'texas': 1800, 'baker': 149, 'resemblance': 1476, 'weight': 1958, 'wolf': 1985, 'temple': 1790, 'fol': 704, 'drunken': 557, 'traditional': 1852, 'spike': 1673, 'argue': 115, 'portraying': 1333, 'betie': 178, 'suden': 1744, 'nude': 1224, 'taylor': 1782, '1950s': 10, 'icon': 891, 'neighborhod': 1195, 'changing': 300, 'fiting': 691, 'youbr': 1997, 'dynamic': 565, 'achieved': 44, 'shape': 1593, 'consists': 380, 'sketch': 1632, 'plastic': 1318, 'rush': 1527, 'hong': 869, 'haunted': 827, 'staying': 1698, 'colorful': 353, 'defeat': 473, 'morebr': 1162, 'tribute': 1866, 'luke': 1083, 'fay': 673, 'hartley': 824, 'duke': 562, 'ana': 94, 'helen': 836, 'elephant': 582, 'comit': 362, 'wicked': 1969, 'planing': 1316, 'propaganda': 1377, 'visuals': 1930, 'ian': 889, 'roy': 1523, 'charisma': 306, 'spin': 1674, 'spof': 1679, 'urban': 1906, 'psychotic': 1390, 'implausible': 900, 'originality': 1252, 'tribe': 1865, 'bo': 198, 'hunter': 885, 'coincidence': 349, 'hip': 852, 'bathrom': 160, 'vague': 1914, 'teth': 1799, 'justify': 988, 'sidekick': 1614, 'routine': 1521, 'dolar': 534, 'court': 411, 'caused': 290, 'repetitive': 1466, 'shower': 1611, 'aimed': 69, 'handsome': 813, 'drink': 551, 'indie': 908, 'sufer': 1745, 'saly': 1538, 'wi': 1968, 'pair': 1271, 'poverty': 1340, 'row': 1522, 'separate': 1577, 'complaint': 367, 'develops': 504, 'marvelous': 1105, 'segment': 1565, 'clint': 338, 'tomato': 1839, 'cuba': 437, 'realife': 1424, 'triumph': 1870, 'learning': 1034, 'jake': 956, 'fortunately': 715, 'mature': 1114, 'wreck': 1994, 'staf': 1689, 'increasingly': 906, 'remembered': 1456, 'transition': 1855, 'felix': 677, 'keaton': 993, 'victoria': 1921, 'wizard': 1982, 'trite': 1869, 'powel': 1341, 'burton': 251, 'lucy': 1080, 'ches': 313, 'atempting': 133, 'emily': 590, 'shy': 1613, 'dawson': 467, 'adequate': 53, 'authentic': 142, 'griping': 790, 'streisand': 1716, 'hiting': 856, 'mate': 1110, 'inept': 909, 'cardboard': 273, 'handled': 812, 'enter': 600, 'lazy': 1031, 'stanley': 1691, 'kubrick': 1011, 'apaling': 107, 'poster': 1338, 'core': 402, 'photo': 1301, 'hil': 848, 'distant': 530, 'placed': 1314, 'relies': 1450, 'aunt': 139, 'riter': 1503, 'promising': 1375, 'packed': 1267, 'mafia': 1090, 'outcome': 1254, 'required': 1472, 'rochester': 1509, 'parody': 1279, 'estate': 613, 'brando': 217, 'menacing': 1124, 'werewolf': 1964, 'shelf': 1598, 'funeral': 738, 'hitler': 857, 'hils': 849, 'lesbian': 1039, 'asistant': 123, 'guest': 799, 'harder': 820, 'overated': 1258, 'manhatan': 1097, 'photographed': 1302, 'der': 491, 'selfish': 1569, 'stolen': 1708, 'broklyn': 238, 'handful': 810, 'garden': 748, 'wody': 1984, 'relief': 1449, 'ninja': 1203, 'boxing': 213, 'chapter': 302, 'grey': 788, 'roling': 1514, 'washington': 1948, 'noble': 1204, 'aforementioned': 61, 'insane': 919, 'eforts': 577, 'regardles': 1441, 'politician': 1326, 'st': 1688, 'norman': 1212, 'sings': 1625, 'closely': 340, 'widow': 1972, 'vacation': 1913, 'kitchen': 1005, 'thril': 1817, 'sneak': 1647, 'twin': 1876, 'spoil': 1680, 'desert': 495, 'remaining': 1454, 'homer': 868, 'philosophy': 1300, 'chain': 296, 'restaurant': 1481, 'coherent': 348, 'heroic': 842, 'tal': 1775, 'sleazy': 1641, 'portrays': 1334, 'producing': 1369, 'carter': 283, 'smoth': 1645, 'hoped': 871, 'jet': 971, 'medical': 1120, 'rick': 1495, 'stupidity': 1732, 'karen': 990, 'fabulous': 653, 'nose': 1214, 'picking': 1306, 'fortune': 716, 'stealing': 1699, 'spoken': 1683, 'generous': 753, 'turkey': 1874, 'demand': 480, 'unintentional': 1894, 'meaningful': 1116, 'dan': 453, 'dislike': 528, 'arthur': 120, 'et': 614, 'bete': 176, 'empire': 592, 'ford': 706, 'devoted': 507, 'wing': 1976, 'chaplin': 301, 'meat': 1118, 'solely': 1654, 'arive': 117, 'lincoln': 1054, 'resident': 1478, 'daring': 460, 'uniform': 1893, 'jese': 968, 'bore': 207, 'structure': 1727, 'margaret': 1099, 'fighter': 681, 'africa': 62, 'davy': 465, 'talked': 1776, 'clown': 346, 'exceptional': 626, 'grandmother': 780, 'abc': 36, 'authority': 143, 'losely': 1067, 'preview': 1356, 'shirt': 1604, 'luckily': 1078, 'sink': 1627, 'contrived': 392, 'korean': 1010, 'hudson': 880, 'kirk': 1004, 'thirty': 1811, 'wealthy': 1953, 'frustration': 735, 'shal': 1591, 'showcase': 1610, 'soprano': 1657, 'wals': 1939, 'lily': 1052, 'von': 1933, '1980s': 16, 'skit': 1636, 'web': 1954, 'locked': 1063, 'significant': 1616, 'sandler': 1541, 'logical': 1065, 'stanwyck': 1692, 'divorce': 531, 'ah': 67, 'denzel': 484, 'freman': 729, 'carol': 281, 'sufered': 1746, 'imagery': 898, 'pen': 1291, 'basement': 157, 'delivery': 479, 'sulivan': 1750, 'imaginative': 899, 'flawles': 694, 'crush': 436, 'subplot': 1734, 'mild': 1139, 'dracula': 543, '201': 18, 'boby': 201, 'elvis': 585, 'miniseries': 1147, 'rat': 1420, 'michele': 1135, 'warn': 1945, 'olivier': 1243, 'canon': 268, 'bite': 184, 'revolutionary': 1492, 'iron': 945, 'sadistic': 1533, 'che': 310, 'lawrence': 1028, 'elvira': 584, 'mildred': 1141, 'columbo': 355}\n"
          ]
        }
      ]
    },
    {
      "cell_type": "code",
      "source": [
        "len(cv.vocabulary_)"
      ],
      "metadata": {
        "colab": {
          "base_uri": "https://localhost:8080/"
        },
        "id": "ua3N5D94EbTw",
        "outputId": "e0a38db8-186f-4622-ca53-b66eba0c2d53"
      },
      "execution_count": 25,
      "outputs": [
        {
          "output_type": "execute_result",
          "data": {
            "text/plain": [
              "2000"
            ]
          },
          "metadata": {},
          "execution_count": 25
        }
      ]
    },
    {
      "cell_type": "markdown",
      "source": [
        "**TF-IDF**"
      ],
      "metadata": {
        "id": "0dJeTIBOG5AM"
      }
    },
    {
      "cell_type": "code",
      "source": [
        "from sklearn.feature_extraction.text import TfidfVectorizer\n",
        "\n",
        "tfidfvec = TfidfVectorizer(stop_words = \"english\", min_df = 10, max_df=200, max_features = 2000)"
      ],
      "metadata": {
        "id": "Oa5wg-nREbWw"
      },
      "execution_count": 26,
      "outputs": []
    },
    {
      "cell_type": "code",
      "source": [
        "#parse matrix to numpy array to_array\n",
        "x_train_tfidf= tfidfvec.fit_transform(x_train).toarray()\n",
        "x_test_tfidf = tfidfvec.transform(x_test).toarray()"
      ],
      "metadata": {
        "id": "8kWbD0khEbaT"
      },
      "execution_count": 27,
      "outputs": []
    },
    {
      "cell_type": "code",
      "source": [
        "print(tfidfvec.vocabulary_)"
      ],
      "metadata": {
        "colab": {
          "base_uri": "https://localhost:8080/"
        },
        "id": "s0Xzyv_-EbdL",
        "outputId": "0162f9f8-b35d-43f0-9a22-34b6d8eccbb7"
      },
      "execution_count": 28,
      "outputs": [
        {
          "output_type": "stream",
          "name": "stdout",
          "text": [
            "{'ralph': 1412, 'exercise': 632, 'solve': 1655, 'surounding': 1762, 'popcorn': 1328, 'acidentaly': 46, 'continuity': 388, 'tight': 1828, 'lower': 1075, 'leg': 1036, 'pas': 1281, 'grand': 779, 'finale': 685, 'granted': 782, 'text': 1801, 'saint': 1535, 'ace': 39, 'mel': 1121, 'faithful': 661, 'mountain': 1168, 'cash': 285, 'jackson': 954, 'roman': 1515, 'combination': 356, 'statement': 1695, 'thomas': 1813, 'designed': 496, 'program': 1372, 'hype': 887, 'worthles': 1989, 'universe': 1900, 'river': 1505, 'drew': 550, 'spiritual': 1675, 'frustrated': 734, 'southern': 1660, 'california': 260, 'creation': 424, 'driven': 553, 'montana': 1161, 'landscape': 1019, 'lake': 1018, 'wory': 1991, 'inspiring': 923, 'insight': 920, 'goal': 765, 'colour': 354, 'crowd': 432, 'pose': 1335, 'daniel': 457, 'lewis': 1046, 'fot': 718, 'brown': 240, 'learned': 1033, 'paint': 1269, 'loving': 1073, '205': 22, 'rusian': 1529, 'ofensive': 1238, 'symbolism': 1771, 'chalenge': 298, 'setup': 1584, 'conversation': 396, 'condition': 374, 'vilage': 1924, 'enjoyment': 598, 'endearing': 594, 'national': 1184, 'hunt': 884, 'ema': 587, 'exposed': 646, 'paris': 1277, 'refreshing': 1437, 'strets': 1718, 'included': 904, 'rachel': 1404, 'cok': 350, 'bary': 154, 'parker': 1278, 'bruce': 241, 'merit': 1127, 'touched': 1845, 'redemption': 1435, 'advice': 59, 'catholic': 289, 'vicious': 1919, 'faced': 654, 'notably': 1216, 'marie': 1101, 'priest': 1360, 'interpretation': 934, 'hitchcock': 855, 'charge': 305, 'source': 1659, 'critical': 430, 'asking': 124, 'conect': 375, 'entertained': 603, 'robin': 1507, 'pity': 1313, 'prom': 1374, 'clichéd': 337, 'jumping': 985, 'closet': 342, 'unexpected': 1889, 'sucesfuly': 1742, 'convention': 394, 'heroine': 843, 'ocur': 1234, 'psycho': 1388, 'whilst': 1967, 'kilers': 1001, 'progres': 1373, 'object': 1227, 'path': 1285, 'investigate': 937, 'embarasing': 589, 'performing': 1296, 'julia': 983, 'sumary': 1752, 'turner': 1875, 'clasics': 334, 'clean': 335, 'pat': 1284, 'bone': 205, 'factor': 656, 'scale': 1549, 'ron': 1516, 'gofy': 768, 'murphy': 1175, 'height': 835, 'peak': 1290, 'fx': 743, 'sureal': 1759, 'overloked': 1261, 'brave': 218, 'weks': 1960, 'pleased': 1321, '17': 3, 'post': 1337, 'magazine': 1091, 'unforgetable': 1890, 'santa': 1542, 'buying': 255, 'string': 1722, 'theyve': 1809, 'sale': 1537, 'hank': 816, 'hal': 805, 'crafted': 418, 'perfection': 1292, 'contrast': 391, 'setings': 1583, '1930s': 8, 'gangster': 747, 'protect': 1381, 'briliantly': 230, 'experienced': 636, 'jean': 962, 'gentle': 754, 'skil': 1633, 'craft': 417, 'joan': 974, 'sharp': 1595, 'requires': 1473, 'lawyer': 1029, '710': 32, 'gift': 759, 'gota': 775, 'received': 1433, 'legendary': 1037, 'stoped': 1710, 'caried': 278, 'flor': 698, 'bag': 148, 'ber': 174, 'university': 1901, 'represents': 1470, 'magical': 1092, 'birthday': 183, 'winter': 1977, 'snow': 1648, 'pretend': 1353, 'built': 245, 'tre': 1859, 'served': 1581, 'cave': 291, 'trek': 1862, 'lucas': 1076, 'filmsbr': 684, 'trilogy': 1867, 'practicaly': 1342, 'entertain': 602, 'dolars': 535, 'contain': 383, 'department': 485, 'gory': 774, 'specific': 1666, 'eat': 569, 'dubing': 560, 'stranger': 1715, 'introduction': 936, 'warned': 1946, 'stomach': 1709, 'pride': 1359, 'harsh': 823, 'nation': 1183, 'india': 907, 'gandhi': 746, 'sacrifice': 1532, 'achieve': 43, 'fredom': 727, 'proved': 1384, 'naturaly': 1186, 'weding': 1957, 'torn': 1843, 'silence': 1617, 'pushed': 1398, 'pushing': 1399, 'user': 1910, 'strugling': 1729, 'rain': 1409, 'caine': 259, 'briliance': 229, 'heston': 844, 'stared': 1693, '202': 19, 'expensive': 635, 'dated': 463, 'nowadays': 1222, 'chuck': 325, 'joseph': 980, 'edward': 575, 'wana': 1941, 'moron': 1165, 'host': 878, 'hatred': 826, 'unfortunate': 1891, 'idiotic': 895, 'bible': 179, 'fred': 726, 'daily': 450, 'spech': 1665, 'ideal': 892, 'religion': 1451, 'teach': 1784, 'jerk': 966, 'simon': 1620, 'sin': 1622, 'el': 579, 'tape': 1778, 'cruise': 435, 'neighbor': 1194, 'remark': 1455, 'excited': 627, 'border': 206, 'angel': 101, 'andy': 99, 'philip': 1299, 'hofman': 859, 'perform': 1293, 'relative': 1446, 'etcbr': 615, 'thrilers': 1818, 'honor': 870, 'albert': 76, 'intensity': 929, 'nail': 1179, 'timing': 1833, 'comercial': 360, 'kudos': 1012, 'welbr': 1961, 'unlikely': 1902, 'losing': 1069, 'fate': 671, 'cuting': 448, 'ran': 1414, 'mexico': 1133, 'sentence': 1574, 'serf': 1578, 'sidney': 1615, '196': 11, 'afternon': 64, 'network': 1199, 'unbelievably': 1882, 'dean': 470, 'gain': 745, 'method': 1130, 'mentaly': 1125, 'slave': 1640, 'efectively': 576, '193': 7, 'quest': 1401, 'claire': 332, 'ane': 100, 'alike': 82, 'dorothy': 539, 'pal': 1272, 'unintentionaly': 1895, 'contact': 382, 'learns': 1035, 'carying': 284, 'guard': 797, 'sher': 1599, 'realizes': 1427, 'destroy': 499, 'curently': 442, 'repeated': 1464, 'develop': 503, 'walked': 1936, 'expres': 647, '198': 15, 'rank': 1417, 'universal': 1899, 'tenager': 1791, 'largely': 1021, 'ape': 108, 'incident': 903, 'related': 1444, 'homage': 866, 'shadow': 1588, 'fet': 678, 'fictional': 679, 'remote': 1459, 'range': 1415, 'stretch': 1717, 'boredom': 208, 'spectacular': 1667, '310': 28, 'pilot': 1310, 'combined': 358, 'therebr': 1806, 'shop': 1607, 'virgin': 1927, 'mixed': 1154, 'size': 1631, 'helicopter': 837, 'flight': 696, 'upset': 1905, 'pan': 1273, 'albeit': 75, 'tim': 1830, 'nonetheles': 1210, 'gold': 769, 'canadian': 266, 'health': 829, 'moviesbr': 1170, 'demon': 481, 'japan': 958, 'sleping': 1642, 'budy': 243, 'jealous': 961, 'boat': 200, 'hiding': 845, 'bridge': 226, 'handle': 811, 'sword': 1770, 'caries': 279, 'wity': 1981, 'trap': 1856, 'prevent': 1355, 'evidence': 621, 'irish': 943, 'ordinary': 1250, 'circle': 328, 'bomb': 204, 'sexualy': 1587, 'jail': 955, 'table': 1774, 'trio': 1868, 'charismatic': 307, 'sel': 1568, 'iner': 910, 'thug': 1823, 'section': 1563, 'painting': 1270, 'purely': 1395, 'resolution': 1479, 'maria': 1100, 'bal': 150, 'jon': 979, 'balance': 151, 'reader': 1423, 'superhero': 1756, 'batman': 162, 'blair': 187, 'basis': 158, 'mitchel': 1153, 'altime': 87, 'latest': 1024, 'pleasantly': 1320, 'rot': 1518, 'loser': 1068, 'reunion': 1485, 'welcome': 1962, 'absence': 37, 'pleasant': 1319, 'victor': 1920, 'steven': 1702, 'blend': 191, 'formula': 713, 'league': 1032, 'captured': 271, 'clark': 333, 'blown': 196, 'faith': 660, 'thankfuly': 1802, 'oliver': 1242, 'pro': 1368, 'credibility': 426, 'reduced': 1436, 'rubish': 1524, 'lugosi': 1082, 'mexican': 1132, 'dubed': 559, 'reminiscent': 1458, 'seventy': 1585, 'alen': 78, 'karlof': 991, 'wide': 1970, 'curse': 445, 'jr': 982, 'finest': 686, 'courage': 410, 'broke': 236, 'gona': 772, 'discusion': 525, 'vhs': 1918, 'influence': 913, 'nick': 1202, 'cage': 258, 'denis': 482, 'hoper': 873, 'flyn': 701, 'discovery': 523, 'godbr': 766, 'germany': 758, 'radio': 1407, 'nazi': 1188, 'politics': 1327, 'serve': 1580, 'code': 347, 'broadcast': 234, 'repeatedly': 1465, 'biter': 185, 'fairy': 659, 'sends': 1572, 'existence': 633, 'identity': 894, 'ancient': 95, 'racist': 1406, 'dentist': 483, 'beaten': 166, 'beloved': 172, 'returned': 1483, 'trial': 1864, 'humanity': 882, 'cel': 292, 'fiften': 680, 'irony': 948, 'spite': 1676, 'patient': 1286, 'sole': 1653, 'curious': 444, 'depresion': 490, 'youth': 1998, 'holding': 861, 'explosion': 645, 'kate': 992, 'tobr': 1837, 'prepared': 1348, 'nut': 1226, 'renting': 1462, 'alright': 86, 'listed': 1059, 'item': 952, 'italy': 951, 'international': 932, 'site': 1630, 'regret': 1442, 'origin': 1251, 'spoilersbr': 1682, 'spoky': 1684, 'castle': 286, 'resembles': 1477, 'shining': 1602, 'brand': 216, 'supernatural': 1758, 'teror': 1797, 'multiple': 1172, 'uncle': 1883, 'prop': 1376, 'leser': 1040, 'achievement': 45, 'budies': 242, 'deadly': 468, 'servant': 1579, 'entry': 604, 'golden': 771, 'keping': 997, 'sentimental': 1576, 'discus': 524, 'grant': 781, 'douglas': 541, 'intent': 930, 'laurel': 1027, 'dignity': 512, 'properly': 1379, 'recognize': 1434, 'tiny': 1835, 'vilains': 1925, 'destruction': 501, 'remain': 1453, 'atitude': 134, 'slight': 1643, 'grim': 789, 'glory': 763, 'voight': 1932, 'figured': 682, 'isbr': 949, 'junk': 987, 'sean': 1559, 'mebr': 1119, 'lay': 1030, 'survivor': 1764, 'anie': 103, 'mat': 1109, 'helping': 838, 'tie': 1826, 'wake': 1934, 'ed': 571, 'wod': 1983, 'reputation': 1471, 'hanging': 815, 'punch': 1393, 'returning': 1484, 'buried': 247, 'quen': 1400, 'amateurish': 90, 'aint': 70, 'haunting': 828, 'atmospheric': 135, 'website': 1955, 'morning': 1164, 'link': 1055, 'outbr': 1253, 'holy': 865, 'surounded': 1761, 'gut': 803, 'glover': 764, 'subsequent': 1736, 'screning': 1554, 'directly': 516, 'crash': 421, 'apropriate': 113, 'magnificent': 1093, 'evident': 622, 'fed': 676, 'titanic': 1836, 'quirky': 1402, 'tenagers': 1792, 'fredy': 728, 'leting': 1045, 'lisa': 1058, 'spark': 1663, 'odly': 1236, 'expert': 638, '3d': 29, 'storyteling': 1713, 'gros': 792, 'digital': 511, 'theatrical': 1804, 'disc': 520, 'wes': 1965, 'craven': 422, 'darker': 461, 'arnold': 119, 'johny': 977, 'alice': 81, 'coper': 401, 'carpenter': 282, 'madnes': 1089, 'motif': 1166, 'engaged': 596, 'gradualy': 778, 'ma': 1088, 'altogether': 88, 'endles': 595, 'caricature': 277, 'slapstick': 1639, 'celuloid': 294, 'finger': 687, 'reveals': 1489, 'measure': 1117, 'strip': 1723, 'obsesion': 1231, 'teritory': 1796, 'onebr': 1245, '16': 2, 'dire': 515, 'conection': 377, 'chosen': 322, 'description': 494, 'clip': 339, 'wit': 1979, 'delight': 476, 'max': 1115, 'naive': 1180, '1st': 17, 'round': 1520, 'admire': 55, 'rol': 1513, 'strictly': 1719, 'acurate': 50, 'described': 493, 'friday': 731, 'opened': 1247, 'amazed': 91, 'stayed': 1697, 'disbelief': 519, 'confusion': 378, 'screnwriter': 1555, 'bringing': 231, 'jewish': 972, 'portion': 1330, 'pol': 1324, 'ton': 1840, 'fame': 665, 'blind': 192, 'spends': 1671, 'heck': 833, 'instalment': 924, 'policeman': 1325, 'lion': 1056, 'gate': 751, 'holmes': 863, 'edie': 572, 'eric': 607, 'infamous': 912, 'instinct': 926, '14': 1, '206': 23, 'president': 1351, 'united': 1898, 'service': 1582, 'operation': 1248, 'sutherland': 1767, 'rival': 1504, 'eva': 617, 'winer': 1975, 'kim': 1003, 'sarah': 1543, 'concern': 371, 'timeles': 1831, 'gene': 752, 'kely': 994, 'stylish': 1733, 'em': 586, '25': 27, 'test': 1798, 'abuse': 38, 'raise': 1410, 'lip': 1057, 'secretary': 1562, 'apreciated': 112, 'sufers': 1748, 'hearing': 830, 'hire': 853, 'thief': 1810, 'lifebr': 1049, 'storybr': 1712, 'vincent': 1926, 'typicaly': 1878, 'luck': 1077, '810': 33, 'satan': 1544, 'traped': 1857, 'rage': 1408, 'east': 568, 'flash': 692, '19': 5, 'underground': 1887, 'nedles': 1193, 'bmovie': 197, 'logic': 1064, 'explained': 639, 'overthetop': 1263, 'subtlety': 1739, 'dreadful': 547, 'hoked': 860, 'bc': 163, 'canada': 265, 'witnes': 1980, 'believed': 169, 'devil': 506, 'mst3k': 1171, 'presumably': 1352, 'hang': 814, 'jesus': 970, 'min': 1144, 'board': 199, 'nonexistent': 1211, 'sensitive': 1573, 'equal': 606, 'worldbr': 1988, 'sport': 1685, 'underated': 1886, 'bolywod': 203, '194': 9, 'blockbuster': 194, 'highest': 847, 'silver': 1618, 'aid': 68, 'neil': 1196, 'walter': 1940, 'mathau': 1111, 'burn': 248, 'nurse': 1225, 'howard': 879, 'montage': 1160, 'cup': 440, 'tea': 1783, 'huh': 881, 'lovable': 1072, 'enters': 601, 'noir': 1205, 'laura': 1026, 'andrew': 98, 'sufering': 1747, 'base': 155, 'beating': 167, 'alows': 85, 'weve': 1966, 'motivation': 1167, 'duo': 563, 'strangely': 1714, 'acepted': 42, 'christ': 323, 'raised': 1411, 'tortured': 1844, 'duty': 564, '910': 34, 'holiday': 862, 'marshal': 1103, 'bel': 168, 'ruined': 1525, 'dresed': 549, 'lary': 1023, 'waybr': 1951, 'frequently': 730, 'rough': 1519, 'suceds': 1741, 'lowbudget': 1074, 'christian': 324, 'portray': 1332, 'breaking': 220, 'asociated': 126, 'guilty': 802, 'proper': 1378, 'ultimate': 1880, 'regard': 1439, 'push': 1397, 'recal': 1431, 'briefly': 227, 'isue': 950, 'comunity': 370, 'practice': 1343, 'damage': 451, 'milions': 1143, 'flower': 700, 'grows': 795, 'searching': 1560, 'scripted': 1556, 'writerdirector': 1995, 'everyday': 620, 'urge': 1907, 'skils': 1634, 'suspenseful': 1766, 'mision': 1152, 'pointed': 1323, 'tend': 1793, 'widmark': 1971, 'fbi': 674, 'cia': 326, 'refuse': 1438, 'obscure': 1229, 'savage': 1548, 'lust': 1084, 'switch': 1769, 'notorious': 1221, 'revolves': 1493, 'beast': 165, 'murdered': 1173, 'bride': 225, 'knowledge': 1008, 'paper': 1275, 'sophisticated': 1656, 'sinister': 1626, 'britain': 232, 'combine': 357, 'spanish': 1662, 'tradition': 1851, 'amazingly': 92, 'depiction': 488, '1970s': 14, 'gothic': 776, 'jaw': 959, 'chiling': 318, 'mansion': 1098, 'pretentious': 1354, 'insulting': 927, 'forgetable': 709, '210': 25, 'corect': 403, 'worker': 1987, 'darknes': 462, 'research': 1475, 'profesor': 1370, 'mathew': 1112, 'walker': 1938, 'performed': 1294, 'experiment': 637, 'foster': 717, 'uwe': 1912, 'bol': 202, 'target': 1779, 'aged': 66, 'brazil': 219, 'astaire': 127, 'rogers': 1512, 'tune': 1873, 'virtualy': 1928, 'mustse': 1178, 'scarecrow': 1550, 'rebel': 1430, 'paced': 1264, 'convince': 398, 'grab': 777, 'atacked': 130, 'broad': 233, 'ocean': 1233, 'surface': 1760, 'emotionaly': 591, 'dragon': 545, 'hired': 854, 'tower': 1847, 'atraction': 137, 'spel': 1669, 'split': 1678, 'technique': 1786, 'asume': 128, 'cgi': 295, 'dom': 536, 'thriling': 1819, 'superman': 1757, 'atrocious': 138, 'unconvincing': 1885, 'airplane': 72, 'timesbr': 1832, 'seagal': 1558, 'dawn': 466, 'crude': 433, 'celebrity': 293, 'journalist': 981, 'grown': 794, 'dany': 458, 'jef': 963, 'continues': 387, 'evening': 619, 'relevant': 1448, 'belongs': 171, 'oil': 1241, 'kong': 1009, 'benefit': 173, 'technology': 1787, 'bothered': 210, 'comited': 363, 'covered': 413, 'bush': 253, 'depicted': 487, 'status': 1696, 'yesterday': 1996, 'foreign': 707, 'circumstance': 329, 'relation': 1445, 'clothing': 345, 'freak': 725, 'herebr': 841, 'wave': 1950, 'laughter': 1025, 'nancy': 1181, 'throat': 1821, 'kevin': 998, 'category': 287, 'corpse': 406, 'ocasional': 1232, 'blah': 186, 'lacked': 1016, 'threatening': 1815, 'uncomfortable': 1884, 'soviet': 1661, 'fare': 667, 'destroyed': 500, 'similarity': 1619, 'rescue': 1474, 'mon': 1157, 'shocked': 1605, 'ex': 623, 'load': 1062, 'leslie': 1041, 'roger': 1511, 'exists': 634, 'rocket': 1510, 'controversial': 393, 'hamlet': 809, 'intelectual': 928, 'sexuality': 1586, 'ingredient': 914, 'psychological': 1389, 'zone': 1999, 'explore': 644, 'environment': 605, 'cube': 438, 'bug': 244, 'sped': 1668, 'viewed': 1923, 'elderly': 581, 'gentleman': 755, 'fatal': 670, 'failing': 658, 'crisis': 429, 'principal': 1362, 'melodrama': 1122, 'hysterical': 888, 'mouse': 1169, 'punk': 1394, 'format': 712, 'robot': 1508, 'civil': 331, 'replaced': 1467, 'rip': 1499, 'previously': 1357, 'established': 612, 'matrix': 1113, 'driving': 555, '18': 4, 'cousin': 412, 'prostitute': 1380, 'guesing': 798, 'stock': 1706, 'australia': 140, 'australian': 141, 'tarzan': 1780, 'featured': 675, 'advantage': 58, 'inspiration': 922, 'disease': 526, 'listening': 1060, 'lucky': 1079, 'par': 1276, 'aslep': 125, 'twisted': 1877, 'disgusting': 527, 'competent': 365, 'involves': 942, 'toy': 1848, 'forgive': 710, 'barbara': 153, 'edited': 573, 'tracy': 1849, 'overdone': 1260, 'stunt': 1731, 'chinese': 320, 'unrealistic': 1903, 'noted': 1218, 'france': 721, 'inevitable': 911, 'consequence': 379, 'afected': 60, 'holow': 864, 'shoulder': 1608, 'farm': 668, 'spring': 1686, 'charactersbr': 304, 'humorous': 883, 'saturday': 1547, 'midnight': 1137, 'riped': 1500, 'pile': 1309, 'strike': 1720, 'proud': 1382, 'standing': 1690, 'depresing': 489, 'shel': 1597, 'ocurs': 1235, 'rap': 1418, 'safe': 1534, 'sympathetic': 1772, 'position': 1336, 'rose': 1517, 'guilt': 801, 'hapines': 818, 'speaks': 1664, 'dres': 548, 'esence': 610, 'prefer': 1346, 'falk': 663, 'poignant': 1322, 'sitcom': 1629, 'task': 1781, 'elizabeth': 583, 'bet': 175, 'relate': 1443, 'technicaly': 1785, 'camerawork': 262, 'anoyed': 105, 'flawed': 693, 'thisbr': 1812, 'sold': 1652, 'closing': 344, 'ignored': 897, 'halowen': 807, 'convinced': 399, 'rental': 1461, 'risk': 1502, 'virus': 1929, 'rid': 1496, 'san': 1540, 'francisco': 723, 'theory': 1805, 'investigation': 938, 'companion': 364, 'pig': 1308, 'prior': 1364, 'aceptable': 41, 'characterization': 303, 'initial': 915, 'atempted': 132, 'gas': 750, 'ignore': 896, 'fil': 683, 'dona': 537, 'ward': 1943, 'conventional': 395, 'reached': 1422, '1960s': 12, 'jackie': 953, 'card': 272, 'dealt': 469, 'knife': 1006, 'response': 1480, 'curtis': 446, 'prize': 1367, 'miler': 1142, 'degre': 475, 'arested': 114, 'pie': 1307, 'shake': 1589, 'pasing': 1283, 'abandoned': 35, 'mil': 1138, 'spending': 1670, 'concert': 373, 'drinking': 552, 'expresion': 648, 'uninteresting': 1896, 'invisible': 939, 'argument': 116, 'shalow': 1592, 'skin': 1635, 'distance': 529, 'ironicaly': 947, 'cliche': 336, 'broks': 239, 'homeles': 867, 'cinderela': 327, 'drawing': 546, 'peace': 1289, 'revolution': 1491, 'lifestyle': 1050, 'ensemble': 599, 'obsesed': 1230, 'pit': 1311, 'terifying': 1795, 'fourth': 720, 'seking': 1567, 'stif': 1704, 'miracle': 1148, 'wanabe': 1942, 'admitedly': 56, 'stewart': 1703, 'partly': 1280, 'tour': 1846, 'bat': 159, 'sherif': 1600, 'iritating': 944, 'esential': 611, 'sek': 1566, 'security': 1564, 'creates': 423, 'pound': 1339, 'kidnaped': 1000, 'execution': 630, 'horendous': 874, 'ashamed': 121, 'goldberg': 770, 'stink': 1705, 'prime': 1361, 'pet': 1298, 'hardcore': 819, 'uk': 1879, 'cruel': 434, 'acents': 40, 'prove': 1383, 'union': 1897, 'horibly': 875, 'navy': 1187, 'amateur': 89, 'facial': 655, 'convey': 397, 'wayne': 1952, 'spielberg': 1672, 'timothy': 1834, 'andor': 97, 'print': 1363, 'bleak': 190, 'population': 1329, 'grew': 787, 'forest': 708, 'beterbr': 177, 'survive': 1763, 'delightful': 477, 'fury': 741, 'inspector': 921, 'gadget': 744, 'miserably': 1151, 'visualy': 1931, 'frightening': 733, 'childrens': 317, 'painfuly': 1268, 'china': 319, 'contrary': 390, 'tap': 1777, 'cried': 428, 'price': 1358, 'cable': 257, 'praise': 1344, 'downright': 542, 'delivered': 478, 'subtitle': 1738, 'market': 1102, 'noticed': 1219, 'blonde': 195, 'retarded': 1482, 'credible': 427, 'excitement': 628, 'guide': 800, 'rambo': 1413, 'lab': 1015, 'extent': 651, 'badbr': 147, 'closeup': 343, 'involvement': 941, 'deper': 486, 'mob': 1155, 'herbr': 840, 'kung': 1013, 'quote': 1403, 'pulp': 1392, 'aka': 73, 'usa': 1908, 'warner': 1947, 'north': 1213, 'extended': 650, 'captain': 270, 'mask': 1108, 'eve': 618, 'susan': 1765, 'directorial': 517, 'debut': 472, 'craig': 419, 'transformation': 1854, 'initialy': 916, 'miscast': 1150, 'threat': 1814, 'physicaly': 1304, 'blank': 189, 'notion': 1220, 'ship': 1603, 'aired': 71, 'babe': 145, 'ruth': 1530, 'complexity': 368, 'manager': 1096, 'understod': 1888, 'exploit': 642, 'basebal': 156, 'anderson': 96, 'keneth': 996, 'interaction': 931, 'branagh': 215, 'jery': 967, 'cameron': 263, 'sky': 1637, 'halfway': 806, 'lying': 1085, 'unable': 1881, 'stelar': 1700, 'chan': 299, 'dame': 452, 'wilson': 1974, 'definite': 474, '203': 20, 'hat': 825, 'non': 1209, 'draged': 544, 'topic': 1841, 'monk': 1158, 'fat': 669, 'uter': 1911, 'danger': 456, 'frankly': 724, 'spoiled': 1681, 'dare': 459, 'reasonably': 1429, 'sake': 1536, 'stronger': 1724, 'muslim': 1177, 'native': 1185, 'send': 1571, 'mesages': 1128, 'throwing': 1822, 'onbr': 1244, 'apearances': 110, 'thumb': 1824, 'candy': 267, 'crack': 416, 'creator': 425, 'fu': 736, 'countles': 409, 'expresions': 649, 'lonely': 1066, 'block': 193, 'lousy': 1071, 'bright': 228, 'grave': 784, 'useles': 1909, 'conspiracy': 381, 'desperately': 497, 'inovative': 918, 'kilings': 1002, 'satisfying': 1546, 'ken': 995, 'morgan': 1163, 'bus': 252, 'storm': 1711, 'ironic': 946, 'lane': 1020, 'persona': 1297, 'nearby': 1189, 'nuclear': 1223, 'plant': 1317, 'alowing': 84, 'erie': 608, 'outfit': 1255, 'ki': 999, 'unfuny': 1892, 'report': 1468, 'sunday': 1754, 'ticket': 1825, 'photographer': 1303, 'activity': 49, 'showbr': 1609, 'masive': 1107, 'factory': 657, 'function': 737, 'stated': 1694, 'explains': 640, 'necesarily': 1191, 'socaled': 1650, 'ryan': 1531, 'asian': 122, 'breast': 221, 'snake': 1646, 'shut': 1612, 'metal': 1129, 'crapy': 420, 'device': 505, 'convoluted': 400, 'context': 385, 'embarased': 588, 'capable': 269, 'lifetime': 1051, 'shed': 1596, 'jesica': 969, 'simpson': 1621, 'naration': 1182, 'incoherent': 905, 'caring': 280, 'vietnam': 1922, 'explicit': 641, 'swedish': 1768, 'tied': 1827, 'friendly': 732, 'charlie': 308, 'discovered': 521, 'acomplished': 47, 'fish': 689, 'dancer': 454, 'choreography': 321, 'franchise': 722, 'chese': 314, 'godfather': 767, 'catherine': 288, 'treasure': 1860, 'grow': 793, 'acused': 51, 'false': 664, 'wise': 1978, 'murderer': 1174, 'anger': 102, '410': 30, 'presentation': 1350, 'performer': 1295, 'mindles': 1145, 'sing': 1624, 'awkward': 144, 'sum': 1751, 'striking': 1721, 'ambitious': 93, 'shakespeare': 1590, 'relatively': 1447, 'batles': 161, 'henry': 839, 'derek': 492, 'seat': 1561, 'julie': 984, 'wiliams': 1973, 'lemon': 1038, 'tense': 1794, 'patrick': 1287, 'easier': 567, 'childish': 316, 'intrigue': 935, 'gary': 749, 'cole': 351, 'theyd': 1807, 'smoke': 1644, 'heavily': 832, 'dors': 540, 'veteran': 1917, 'realise': 1425, 'hed': 834, 'advance': 57, 'overly': 1262, 'concerned': 372, 'ofered': 1239, 'receive': 1432, 'treatment': 1861, 'complicated': 369, 'bulets': 246, 'revelation': 1490, 'arives': 118, 'variety': 1915, 'contract': 389, 'truck': 1872, 'leson': 1042, 'revealing': 1488, 'providing': 1386, 'mid': 1136, 'europe': 616, 'stod': 1707, 'samurai': 1539, 'trade': 1850, 'seling': 1570, 'sugests': 1749, 'sympathy': 1773, 'curiosity': 443, 'invite': 940, 'join': 978, 'oficer': 1240, 'driver': 554, 'dig': 510, 'upbr': 1904, 'louis': 1070, 'jay': 960, 'jungle': 986, 'cox': 415, 'criticism': 431, 'adapted': 52, 'haris': 822, 'dane': 455, 'revealed': 1487, 'lesons': 1043, 'glen': 761, 'oneliners': 1246, 'remotely': 1460, 'substance': 1737, 'genuinely': 757, 'gratuitous': 783, 'futuristic': 742, 'exploitation': 643, 'realism': 1426, 'nevertheles': 1200, 'suced': 1740, 'anime': 104, 'martial': 1104, 'profound': 1371, 'exagerated': 625, 'splendid': 1677, 'ala': 74, 'executed': 629, 'determined': 502, 'ridiculously': 1497, 'liberal': 1047, 'bot': 209, '13': 0, 'doc': 532, 'discovers': 522, 'sounded': 1658, 'albr': 77, 'repeat': 1463, 'rushed': 1528, 'greater': 785, 'fired': 688, 'dinosaur': 514, '24': 26, 'raped': 1419, 'soap': 1649, 'beach': 164, 'plague': 1315, 'flow': 699, 'endbr': 593, 'psychiatrist': 1387, 'importantly': 902, 'favour': 672, 'majority': 1095, 'sentiment': 1575, 'reasonable': 1428, 'regarding': 1440, 'ading': 54, 'gordon': 773, 'eating': 570, 'hod': 858, 'neat': 1190, 'campy': 264, 'ear': 566, 'fancy': 666, 'genuine': 756, 'glimpse': 762, 'believing': 170, 'hopefuly': 872, 'dol': 533, 'weles': 1963, 'citizen': 330, 'kane': 989, 'hunting': 886, 'corny': 405, 'wekend': 1959, 'cher': 312, 'donald': 538, 'mere': 1126, 'broadway': 235, 'obnoxious': 1228, 'screaming': 1553, 'pitch': 1312, 'diamond': 508, 'brad': 214, 'monkey': 1159, 'satire': 1545, 'cusack': 447, 'melodramatic': 1123, 'internet': 933, 'flop': 697, 'extraordinary': 652, 'burning': 249, 'focused': 702, 'chasing': 309, 'reporter': 1469, 'miror': 1149, 'vega': 1916, 'chair': 297, 'dick': 509, 'bird': 181, 'atacks': 131, 'diner': 513, 'shark': 1594, 'sea': 1557, 'raw': 1421, 'horors': 877, 'dear': 471, 'brian': 224, 'falen': 662, 'backdrop': 146, 'scenario': 1551, 'paying': 1288, 'struck': 1726, 'closer': 341, 'comical': 361, 'ted': 1788, 'inocence': 917, 'destiny': 498, 'notable': 1215, 'jeremy': 965, 'anthony': 106, 'bank': 152, 'acount': 48, 'sucked': 1743, 'davis': 464, 'riding': 1498, 'nelson': 1197, 'lloyd': 1061, 'wondered': 1986, 'busy': 254, 'newspaper': 1201, 'private': 1366, 'strongly': 1725, 'pacino': 1265, 'toples': 1842, 'couldve': 408, 'dude': 561, 'wed': 1956, 'sun': 1753, 'ranger': 1416, 'stumble': 1730, 'wound': 1993, 'gruesome': 796, 'soft': 1651, 'breathtaking': 223, 'grity': 791, 'knock': 1007, 'meting': 1131, 'droped': 556, 'higher': 846, 'checking': 311, 'subplots': 1735, 'mildly': 1140, 'fonda': 705, 'focusing': 703, 'horific': 876, 'religious': 1452, 'editor': 574, 'cultural': 439, 'reveal': 1486, 'lynch': 1086, 'thatbr': 1803, 'precious': 1345, 'bland': 188, 'threw': 1816, 'neck': 1192, 'heat': 831, 'ice': 890, 'library': 1048, 'fotbal': 719, 'nerd': 1198, 'exact': 624, '197': 13, 'eighty': 578, '20th': 24, 'limit': 1053, 'fisher': 690, 'remind': 1457, 'biger': 180, 'til': 1829, 'nomination': 1208, 'warm': 1944, 'puling': 1391, 'superbly': 1755, 'cynical': 449, 'rob': 1506, 'cabin': 256, 'theyl': 1808, 'ludicrous': 1081, 'pres': 1349, 'minimal': 1146, 'corner': 404, 'stereotypical': 1701, 'lyric': 1087, 'scheme': 1552, 'troubled': 1871, 'noise': 1206, 'tremendous': 1863, '45': 31, '190s': 6, 'instantly': 925, 'bourne': 212, 'himbr': 850, 'hardy': 821, 'hapily': 817, 'thrils': 1820, 'forth': 714, 'traveling': 1858, 'johnson': 976, 'musician': 1176, 'burt': 250, 'pased': 1282, 'walace': 1935, 'outrageous': 1256, 'apearing': 111, 'chief': 315, 'sir': 1628, '204': 21, 'atached': 129, 'flesh': 695, 'mainstream': 1094, 'breath': 222, 'alexander': 80, 'pregnant': 1347, 'portrait': 1331, 'contemporary': 384, 'worthwhile': 1990, 'overcome': 1259, 'larger': 1022, 'wouldve': 1992, 'curent': 441, 'hamilton': 808, 'piano': 1305, 'jenifer': 964, 'jamie': 957, 'broken': 237, 'corupt': 407, 'purple': 1396, 'competition': 366, 'masacre': 1106, 'sinatra': 1623, 'jimy': 973, 'spy': 1687, 'elaborate': 580, 'funier': 739, 'ha': 804, 'alex': 79, 'ofbr': 1237, 'forgot': 711, 'wasting': 1949, 'leter': 1044, 'glas': 760, 'alison': 83, 'bound': 211, 'atracted': 136, 'carey': 276, 'enjoying': 597, 'cowboy': 414, 'laid': 1017, 'tedious': 1789, 'oposed': 1249, 'comedian': 359, 'overacting': 1257, 'funybr': 740, 'againbr': 65, 'slap': 1638, 'erotic': 609, 'nominated': 1207, 'notch': 1217, 'dry': 558, 'apealing': 109, 'greatly': 786, 'mgm': 1134, 'reynolds': 1494, 'strugles': 1728, 'african': 63, 'conected': 376, 'disagre': 518, 'identify': 893, 'hint': 851, 'carefuly': 275, 'shine': 1601, 'continued': 386, 'racism': 1405, 'modesty': 1156, 'cared': 274, 'panic': 1274, 'toilet': 1838, 'caling': 261, 'walken': 1937, 'birth': 182, 'kurt': 1014, 'rusel': 1526, 'training': 1853, 'colonel': 352, 'importance': 901, 'ripof': 1501, 'executive': 631, 'joey': 975, 'provided': 1385, 'shoe': 1606, 'pack': 1266, 'prisoner': 1365, 'texas': 1800, 'baker': 149, 'resemblance': 1476, 'weight': 1958, 'wolf': 1985, 'temple': 1790, 'fol': 704, 'drunken': 557, 'traditional': 1852, 'spike': 1673, 'argue': 115, 'portraying': 1333, 'betie': 178, 'suden': 1744, 'nude': 1224, 'taylor': 1782, '1950s': 10, 'icon': 891, 'neighborhod': 1195, 'changing': 300, 'fiting': 691, 'youbr': 1997, 'dynamic': 565, 'achieved': 44, 'shape': 1593, 'consists': 380, 'sketch': 1632, 'plastic': 1318, 'rush': 1527, 'hong': 869, 'haunted': 827, 'staying': 1698, 'colorful': 353, 'defeat': 473, 'morebr': 1162, 'tribute': 1866, 'luke': 1083, 'fay': 673, 'hartley': 824, 'duke': 562, 'ana': 94, 'helen': 836, 'elephant': 582, 'comit': 362, 'wicked': 1969, 'planing': 1316, 'propaganda': 1377, 'visuals': 1930, 'ian': 889, 'roy': 1523, 'charisma': 306, 'spin': 1674, 'spof': 1679, 'urban': 1906, 'psychotic': 1390, 'implausible': 900, 'originality': 1252, 'tribe': 1865, 'bo': 198, 'hunter': 885, 'coincidence': 349, 'hip': 852, 'bathrom': 160, 'vague': 1914, 'teth': 1799, 'justify': 988, 'sidekick': 1614, 'routine': 1521, 'dolar': 534, 'court': 411, 'caused': 290, 'repetitive': 1466, 'shower': 1611, 'aimed': 69, 'handsome': 813, 'drink': 551, 'indie': 908, 'sufer': 1745, 'saly': 1538, 'wi': 1968, 'pair': 1271, 'poverty': 1340, 'row': 1522, 'separate': 1577, 'complaint': 367, 'develops': 504, 'marvelous': 1105, 'segment': 1565, 'clint': 338, 'tomato': 1839, 'cuba': 437, 'realife': 1424, 'triumph': 1870, 'learning': 1034, 'jake': 956, 'fortunately': 715, 'mature': 1114, 'wreck': 1994, 'staf': 1689, 'increasingly': 906, 'remembered': 1456, 'transition': 1855, 'felix': 677, 'keaton': 993, 'victoria': 1921, 'wizard': 1982, 'trite': 1869, 'powel': 1341, 'burton': 251, 'lucy': 1080, 'ches': 313, 'atempting': 133, 'emily': 590, 'shy': 1613, 'dawson': 467, 'adequate': 53, 'authentic': 142, 'griping': 790, 'streisand': 1716, 'hiting': 856, 'mate': 1110, 'inept': 909, 'cardboard': 273, 'handled': 812, 'enter': 600, 'lazy': 1031, 'stanley': 1691, 'kubrick': 1011, 'apaling': 107, 'poster': 1338, 'core': 402, 'photo': 1301, 'hil': 848, 'distant': 530, 'placed': 1314, 'relies': 1450, 'aunt': 139, 'riter': 1503, 'promising': 1375, 'packed': 1267, 'mafia': 1090, 'outcome': 1254, 'required': 1472, 'rochester': 1509, 'parody': 1279, 'estate': 613, 'brando': 217, 'menacing': 1124, 'werewolf': 1964, 'shelf': 1598, 'funeral': 738, 'hitler': 857, 'hils': 849, 'lesbian': 1039, 'asistant': 123, 'guest': 799, 'harder': 820, 'overated': 1258, 'manhatan': 1097, 'photographed': 1302, 'der': 491, 'selfish': 1569, 'stolen': 1708, 'broklyn': 238, 'handful': 810, 'garden': 748, 'wody': 1984, 'relief': 1449, 'ninja': 1203, 'boxing': 213, 'chapter': 302, 'grey': 788, 'roling': 1514, 'washington': 1948, 'noble': 1204, 'aforementioned': 61, 'insane': 919, 'eforts': 577, 'regardles': 1441, 'politician': 1326, 'st': 1688, 'norman': 1212, 'sings': 1625, 'closely': 340, 'widow': 1972, 'vacation': 1913, 'kitchen': 1005, 'thril': 1817, 'sneak': 1647, 'twin': 1876, 'spoil': 1680, 'desert': 495, 'remaining': 1454, 'homer': 868, 'philosophy': 1300, 'chain': 296, 'restaurant': 1481, 'coherent': 348, 'heroic': 842, 'tal': 1775, 'sleazy': 1641, 'portrays': 1334, 'producing': 1369, 'carter': 283, 'smoth': 1645, 'hoped': 871, 'jet': 971, 'medical': 1120, 'rick': 1495, 'stupidity': 1732, 'karen': 990, 'fabulous': 653, 'nose': 1214, 'picking': 1306, 'fortune': 716, 'stealing': 1699, 'spoken': 1683, 'generous': 753, 'turkey': 1874, 'demand': 480, 'unintentional': 1894, 'meaningful': 1116, 'dan': 453, 'dislike': 528, 'arthur': 120, 'et': 614, 'bete': 176, 'empire': 592, 'ford': 706, 'devoted': 507, 'wing': 1976, 'chaplin': 301, 'meat': 1118, 'solely': 1654, 'arive': 117, 'lincoln': 1054, 'resident': 1478, 'daring': 460, 'uniform': 1893, 'jese': 968, 'bore': 207, 'structure': 1727, 'margaret': 1099, 'fighter': 681, 'africa': 62, 'davy': 465, 'talked': 1776, 'clown': 346, 'exceptional': 626, 'grandmother': 780, 'abc': 36, 'authority': 143, 'losely': 1067, 'preview': 1356, 'shirt': 1604, 'luckily': 1078, 'sink': 1627, 'contrived': 392, 'korean': 1010, 'hudson': 880, 'kirk': 1004, 'thirty': 1811, 'wealthy': 1953, 'frustration': 735, 'shal': 1591, 'showcase': 1610, 'soprano': 1657, 'wals': 1939, 'lily': 1052, 'von': 1933, '1980s': 16, 'skit': 1636, 'web': 1954, 'locked': 1063, 'significant': 1616, 'sandler': 1541, 'logical': 1065, 'stanwyck': 1692, 'divorce': 531, 'ah': 67, 'denzel': 484, 'freman': 729, 'carol': 281, 'sufered': 1746, 'imagery': 898, 'pen': 1291, 'basement': 157, 'delivery': 479, 'sulivan': 1750, 'imaginative': 899, 'flawles': 694, 'crush': 436, 'subplot': 1734, 'mild': 1139, 'dracula': 543, '201': 18, 'boby': 201, 'elvis': 585, 'miniseries': 1147, 'rat': 1420, 'michele': 1135, 'warn': 1945, 'olivier': 1243, 'canon': 268, 'bite': 184, 'revolutionary': 1492, 'iron': 945, 'sadistic': 1533, 'che': 310, 'lawrence': 1028, 'elvira': 584, 'mildred': 1141, 'columbo': 355}\n"
          ]
        }
      ]
    },
    {
      "cell_type": "markdown",
      "source": [
        "**Word2Vec**"
      ],
      "metadata": {
        "id": "yumeytYYHPDt"
      }
    },
    {
      "cell_type": "code",
      "source": [
        "import gensim\n",
        "from nltk import sent_tokenize\n",
        "from gensim.utils import simple_preprocess"
      ],
      "metadata": {
        "id": "u5HZT5qcEbgI"
      },
      "execution_count": 39,
      "outputs": []
    },
    {
      "cell_type": "code",
      "source": [
        "story = []\n",
        "for doc in df['review']:\n",
        "    raw_sent = sent_tokenize(doc)\n",
        "    for sent in raw_sent:\n",
        "        story.append(simple_preprocess(sent))"
      ],
      "metadata": {
        "id": "I_RYq5QyEbi3"
      },
      "execution_count": 41,
      "outputs": []
    },
    {
      "cell_type": "code",
      "source": [
        "#Model building            by default dimension is 100 in gensim\n",
        "model = gensim.models.Word2Vec(\n",
        "    window=10,\n",
        "    min_count=2\n",
        ")"
      ],
      "metadata": {
        "id": "kmHnzUWBHfzA"
      },
      "execution_count": 42,
      "outputs": []
    },
    {
      "cell_type": "code",
      "source": [
        "#building vocabulary\n",
        "model.build_vocab(story)"
      ],
      "metadata": {
        "id": "Jcnty78NHf17"
      },
      "execution_count": 43,
      "outputs": []
    },
    {
      "cell_type": "code",
      "source": [
        "#training our model (trained word2vec model)\n",
        "model.train(story, total_examples=model.corpus_count, epochs=model.epochs)"
      ],
      "metadata": {
        "colab": {
          "base_uri": "https://localhost:8080/"
        },
        "id": "kvjPldkrHf5C",
        "outputId": "6a0a8c60-1fbc-4d46-e9e4-39012f68f65d"
      },
      "execution_count": 44,
      "outputs": [
        {
          "output_type": "execute_result",
          "data": {
            "text/plain": [
              "(14311702, 15523230)"
            ]
          },
          "metadata": {},
          "execution_count": 44
        }
      ]
    },
    {
      "cell_type": "code",
      "source": [
        "len(model.wv.index_to_key)"
      ],
      "metadata": {
        "colab": {
          "base_uri": "https://localhost:8080/"
        },
        "id": "MWvZ0ThcHf76",
        "outputId": "4077977d-8586-4e6c-b4a1-b11b1e4bb2ad"
      },
      "execution_count": 45,
      "outputs": [
        {
          "output_type": "execute_result",
          "data": {
            "text/plain": [
              "50022"
            ]
          },
          "metadata": {},
          "execution_count": 45
        }
      ]
    },
    {
      "cell_type": "code",
      "source": [
        "#we created vector for our words, now we will create vector to represent our reviews\n",
        "def document_vector(doc):\n",
        "    # remove out-of-vocabulary words\n",
        "    doc = [word for word in doc.split() if word in model.wv.index_to_key]\n",
        "    return np.mean(model.wv[doc], axis=0)"
      ],
      "metadata": {
        "id": "mIxEuCK0Hf_m"
      },
      "execution_count": 46,
      "outputs": []
    },
    {
      "cell_type": "code",
      "source": [
        "document_vector(df['review'].values[0])     #converted reviews to vector with 100 dimension"
      ],
      "metadata": {
        "colab": {
          "base_uri": "https://localhost:8080/"
        },
        "id": "KV9HaAo2HgC7",
        "outputId": "44af877c-e8c7-4527-902d-de2aa9dbd778"
      },
      "execution_count": 49,
      "outputs": [
        {
          "output_type": "execute_result",
          "data": {
            "text/plain": [
              "array([ 0.22794124, -0.28043765,  0.00315298, -0.09225437, -0.20564152,\n",
              "       -0.58032954, -0.13517386,  0.9568856 ,  0.24062802, -0.39419833,\n",
              "        0.06824888,  0.14758827, -0.65544236, -0.25951013, -0.19139546,\n",
              "       -0.0869212 ,  0.6385733 ,  0.13839898, -0.02353606, -1.1517266 ,\n",
              "        0.5187893 ,  0.160064  ,  0.27555802,  0.07136132, -0.49426743,\n",
              "        0.02539972,  0.05203354,  0.09482441,  0.46188617,  0.4334201 ,\n",
              "        0.28836897, -0.3381542 ,  0.04983336, -0.6399294 ,  0.08638439,\n",
              "       -0.07505576,  0.4113294 , -0.11960907, -0.4215562 ,  0.03621755,\n",
              "        0.0599046 , -0.11721584,  0.15147719,  0.34459043,  0.6440561 ,\n",
              "        0.4209737 ,  0.09872518, -0.61240643,  0.6087816 , -0.4350545 ,\n",
              "       -0.019799  , -0.41497248,  0.20360917,  0.28014508, -0.1718037 ,\n",
              "        0.09222206,  0.43538466, -0.22440575, -0.37224376, -0.09090935,\n",
              "       -0.23265693, -0.0329999 ,  0.2638859 , -0.2699363 , -0.8317292 ,\n",
              "        0.83977324,  0.09129366,  0.14756078, -0.265312  ,  0.28088126,\n",
              "       -0.49959964,  0.08075121,  0.38087347, -0.14394477,  0.94218683,\n",
              "       -0.15626687,  0.11255562,  0.27138802, -0.10392033,  0.23643139,\n",
              "       -0.33495116, -0.01250831, -0.50579506,  0.4795145 , -0.28898722,\n",
              "        0.18117729,  0.06516942,  0.36394152,  0.0519823 ,  0.1640927 ,\n",
              "        0.31219074,  0.27094617,  0.07708041, -0.17063345,  0.42811754,\n",
              "        0.07211331,  0.66022104, -0.15495224, -0.24449594,  0.12399396],\n",
              "      dtype=float32)"
            ]
          },
          "metadata": {},
          "execution_count": 49
        }
      ]
    },
    {
      "cell_type": "code",
      "source": [
        "from tqdm import tqdm"
      ],
      "metadata": {
        "id": "74buxd_XHgHp"
      },
      "execution_count": 50,
      "outputs": []
    },
    {
      "cell_type": "code",
      "source": [
        "X = []\n",
        "for doc in tqdm(df['review'].values):\n",
        "    X.append(document_vector(doc))"
      ],
      "metadata": {
        "colab": {
          "base_uri": "https://localhost:8080/"
        },
        "id": "C_FoQ1q1Hvy_",
        "outputId": "662c2b72-50b7-4481-e2aa-19b0ce33499b"
      },
      "execution_count": 51,
      "outputs": [
        {
          "output_type": "stream",
          "name": "stderr",
          "text": [
            "100%|██████████| 25000/25000 [11:40<00:00, 35.71it/s]\n"
          ]
        }
      ]
    },
    {
      "cell_type": "code",
      "source": [
        "X = np.array(X)"
      ],
      "metadata": {
        "id": "7yz5cpUOHv1y"
      },
      "execution_count": 52,
      "outputs": []
    },
    {
      "cell_type": "code",
      "source": [
        "X.shape"
      ],
      "metadata": {
        "colab": {
          "base_uri": "https://localhost:8080/"
        },
        "id": "FjIYMoqcHv5L",
        "outputId": "d70fb620-a0c4-46f0-8260-57e9b8c3ab3b"
      },
      "execution_count": 53,
      "outputs": [
        {
          "output_type": "execute_result",
          "data": {
            "text/plain": [
              "(25000, 100)"
            ]
          },
          "metadata": {},
          "execution_count": 53
        }
      ]
    },
    {
      "cell_type": "code",
      "source": [
        "X[0]"
      ],
      "metadata": {
        "colab": {
          "base_uri": "https://localhost:8080/"
        },
        "id": "UDsygbgrHv-U",
        "outputId": "ce60bcff-86e3-4cb7-82f5-6512d0f1320f"
      },
      "execution_count": 54,
      "outputs": [
        {
          "output_type": "execute_result",
          "data": {
            "text/plain": [
              "array([ 0.22794124, -0.28043765,  0.00315298, -0.09225437, -0.20564152,\n",
              "       -0.58032954, -0.13517386,  0.9568856 ,  0.24062802, -0.39419833,\n",
              "        0.06824888,  0.14758827, -0.65544236, -0.25951013, -0.19139546,\n",
              "       -0.0869212 ,  0.6385733 ,  0.13839898, -0.02353606, -1.1517266 ,\n",
              "        0.5187893 ,  0.160064  ,  0.27555802,  0.07136132, -0.49426743,\n",
              "        0.02539972,  0.05203354,  0.09482441,  0.46188617,  0.4334201 ,\n",
              "        0.28836897, -0.3381542 ,  0.04983336, -0.6399294 ,  0.08638439,\n",
              "       -0.07505576,  0.4113294 , -0.11960907, -0.4215562 ,  0.03621755,\n",
              "        0.0599046 , -0.11721584,  0.15147719,  0.34459043,  0.6440561 ,\n",
              "        0.4209737 ,  0.09872518, -0.61240643,  0.6087816 , -0.4350545 ,\n",
              "       -0.019799  , -0.41497248,  0.20360917,  0.28014508, -0.1718037 ,\n",
              "        0.09222206,  0.43538466, -0.22440575, -0.37224376, -0.09090935,\n",
              "       -0.23265693, -0.0329999 ,  0.2638859 , -0.2699363 , -0.8317292 ,\n",
              "        0.83977324,  0.09129366,  0.14756078, -0.265312  ,  0.28088126,\n",
              "       -0.49959964,  0.08075121,  0.38087347, -0.14394477,  0.94218683,\n",
              "       -0.15626687,  0.11255562,  0.27138802, -0.10392033,  0.23643139,\n",
              "       -0.33495116, -0.01250831, -0.50579506,  0.4795145 , -0.28898722,\n",
              "        0.18117729,  0.06516942,  0.36394152,  0.0519823 ,  0.1640927 ,\n",
              "        0.31219074,  0.27094617,  0.07708041, -0.17063345,  0.42811754,\n",
              "        0.07211331,  0.66022104, -0.15495224, -0.24449594,  0.12399396],\n",
              "      dtype=float32)"
            ]
          },
          "metadata": {},
          "execution_count": 54
        }
      ]
    },
    {
      "cell_type": "code",
      "source": [
        "Y = df['sentiment']"
      ],
      "metadata": {
        "id": "lprRiFKcHwA1"
      },
      "execution_count": 55,
      "outputs": []
    },
    {
      "cell_type": "code",
      "source": [
        "from sklearn.model_selection import train_test_split\n",
        "X_train,X_test,Y_train,Y_test = train_test_split(X,Y,test_size=0.2,random_state=1)"
      ],
      "metadata": {
        "id": "LuOCdP_1H5uv"
      },
      "execution_count": 56,
      "outputs": []
    },
    {
      "cell_type": "code",
      "source": [
        "from sklearn.ensemble import RandomForestClassifier\n",
        "from sklearn.metrics import accuracy_score"
      ],
      "metadata": {
        "id": "khwUnm4RH5xc"
      },
      "execution_count": 57,
      "outputs": []
    },
    {
      "cell_type": "code",
      "source": [
        "rf = RandomForestClassifier()\n",
        "rf.fit(X_train,Y_train)\n",
        "Y_pred = rf.predict(X_test)\n",
        "accuracy_score(Y_test,Y_pred)"
      ],
      "metadata": {
        "colab": {
          "base_uri": "https://localhost:8080/"
        },
        "id": "SSCWve1DH50A",
        "outputId": "7017671a-ca81-4bc8-da71-4068ebe4e22c"
      },
      "execution_count": 58,
      "outputs": [
        {
          "output_type": "execute_result",
          "data": {
            "text/plain": [
              "0.825"
            ]
          },
          "metadata": {},
          "execution_count": 58
        }
      ]
    },
    {
      "cell_type": "markdown",
      "source": [
        "**Models**"
      ],
      "metadata": {
        "id": "7NboTAauJ1dF"
      }
    },
    {
      "cell_type": "code",
      "source": [
        "from sklearn.linear_model import LogisticRegression\n",
        "lr= LogisticRegression()"
      ],
      "metadata": {
        "id": "HrcD8nAuH53U"
      },
      "execution_count": 59,
      "outputs": []
    },
    {
      "cell_type": "code",
      "source": [
        "lr.fit(x_train_bow,y_train)\n",
        "y_pred = lr.predict(x_test_bow)"
      ],
      "metadata": {
        "id": "h_Zzx2o4H57U"
      },
      "execution_count": 60,
      "outputs": []
    },
    {
      "cell_type": "code",
      "source": [
        "from sklearn.metrics import accuracy_score, recall_score, f1_score, confusion_matrix, classification_report\n",
        "accuracy_score(y_test,y_pred)"
      ],
      "metadata": {
        "colab": {
          "base_uri": "https://localhost:8080/"
        },
        "id": "N04thpR7KB9s",
        "outputId": "a4696bb5-937c-4a32-c4b1-19b1c2eafaa6"
      },
      "execution_count": 61,
      "outputs": [
        {
          "output_type": "execute_result",
          "data": {
            "text/plain": [
              "0.7408"
            ]
          },
          "metadata": {},
          "execution_count": 61
        }
      ]
    },
    {
      "cell_type": "code",
      "source": [
        "## Using Tf-IDF"
      ],
      "metadata": {
        "id": "FIA290WoKCAm"
      },
      "execution_count": 62,
      "outputs": []
    },
    {
      "cell_type": "code",
      "source": [
        "lr= LogisticRegression()\n",
        "lr.fit(x_train_tfidf,y_train)"
      ],
      "metadata": {
        "colab": {
          "base_uri": "https://localhost:8080/",
          "height": 75
        },
        "id": "ug5U278YKCDo",
        "outputId": "e779c1b4-b75b-461e-e063-a53b44107741"
      },
      "execution_count": 63,
      "outputs": [
        {
          "output_type": "execute_result",
          "data": {
            "text/plain": [
              "LogisticRegression()"
            ],
            "text/html": [
              "<style>#sk-container-id-1 {color: black;background-color: white;}#sk-container-id-1 pre{padding: 0;}#sk-container-id-1 div.sk-toggleable {background-color: white;}#sk-container-id-1 label.sk-toggleable__label {cursor: pointer;display: block;width: 100%;margin-bottom: 0;padding: 0.3em;box-sizing: border-box;text-align: center;}#sk-container-id-1 label.sk-toggleable__label-arrow:before {content: \"▸\";float: left;margin-right: 0.25em;color: #696969;}#sk-container-id-1 label.sk-toggleable__label-arrow:hover:before {color: black;}#sk-container-id-1 div.sk-estimator:hover label.sk-toggleable__label-arrow:before {color: black;}#sk-container-id-1 div.sk-toggleable__content {max-height: 0;max-width: 0;overflow: hidden;text-align: left;background-color: #f0f8ff;}#sk-container-id-1 div.sk-toggleable__content pre {margin: 0.2em;color: black;border-radius: 0.25em;background-color: #f0f8ff;}#sk-container-id-1 input.sk-toggleable__control:checked~div.sk-toggleable__content {max-height: 200px;max-width: 100%;overflow: auto;}#sk-container-id-1 input.sk-toggleable__control:checked~label.sk-toggleable__label-arrow:before {content: \"▾\";}#sk-container-id-1 div.sk-estimator input.sk-toggleable__control:checked~label.sk-toggleable__label {background-color: #d4ebff;}#sk-container-id-1 div.sk-label input.sk-toggleable__control:checked~label.sk-toggleable__label {background-color: #d4ebff;}#sk-container-id-1 input.sk-hidden--visually {border: 0;clip: rect(1px 1px 1px 1px);clip: rect(1px, 1px, 1px, 1px);height: 1px;margin: -1px;overflow: hidden;padding: 0;position: absolute;width: 1px;}#sk-container-id-1 div.sk-estimator {font-family: monospace;background-color: #f0f8ff;border: 1px dotted black;border-radius: 0.25em;box-sizing: border-box;margin-bottom: 0.5em;}#sk-container-id-1 div.sk-estimator:hover {background-color: #d4ebff;}#sk-container-id-1 div.sk-parallel-item::after {content: \"\";width: 100%;border-bottom: 1px solid gray;flex-grow: 1;}#sk-container-id-1 div.sk-label:hover label.sk-toggleable__label {background-color: #d4ebff;}#sk-container-id-1 div.sk-serial::before {content: \"\";position: absolute;border-left: 1px solid gray;box-sizing: border-box;top: 0;bottom: 0;left: 50%;z-index: 0;}#sk-container-id-1 div.sk-serial {display: flex;flex-direction: column;align-items: center;background-color: white;padding-right: 0.2em;padding-left: 0.2em;position: relative;}#sk-container-id-1 div.sk-item {position: relative;z-index: 1;}#sk-container-id-1 div.sk-parallel {display: flex;align-items: stretch;justify-content: center;background-color: white;position: relative;}#sk-container-id-1 div.sk-item::before, #sk-container-id-1 div.sk-parallel-item::before {content: \"\";position: absolute;border-left: 1px solid gray;box-sizing: border-box;top: 0;bottom: 0;left: 50%;z-index: -1;}#sk-container-id-1 div.sk-parallel-item {display: flex;flex-direction: column;z-index: 1;position: relative;background-color: white;}#sk-container-id-1 div.sk-parallel-item:first-child::after {align-self: flex-end;width: 50%;}#sk-container-id-1 div.sk-parallel-item:last-child::after {align-self: flex-start;width: 50%;}#sk-container-id-1 div.sk-parallel-item:only-child::after {width: 0;}#sk-container-id-1 div.sk-dashed-wrapped {border: 1px dashed gray;margin: 0 0.4em 0.5em 0.4em;box-sizing: border-box;padding-bottom: 0.4em;background-color: white;}#sk-container-id-1 div.sk-label label {font-family: monospace;font-weight: bold;display: inline-block;line-height: 1.2em;}#sk-container-id-1 div.sk-label-container {text-align: center;}#sk-container-id-1 div.sk-container {/* jupyter's `normalize.less` sets `[hidden] { display: none; }` but bootstrap.min.css set `[hidden] { display: none !important; }` so we also need the `!important` here to be able to override the default hidden behavior on the sphinx rendered scikit-learn.org. See: https://github.com/scikit-learn/scikit-learn/issues/21755 */display: inline-block !important;position: relative;}#sk-container-id-1 div.sk-text-repr-fallback {display: none;}</style><div id=\"sk-container-id-1\" class=\"sk-top-container\"><div class=\"sk-text-repr-fallback\"><pre>LogisticRegression()</pre><b>In a Jupyter environment, please rerun this cell to show the HTML representation or trust the notebook. <br />On GitHub, the HTML representation is unable to render, please try loading this page with nbviewer.org.</b></div><div class=\"sk-container\" hidden><div class=\"sk-item\"><div class=\"sk-estimator sk-toggleable\"><input class=\"sk-toggleable__control sk-hidden--visually\" id=\"sk-estimator-id-1\" type=\"checkbox\" checked><label for=\"sk-estimator-id-1\" class=\"sk-toggleable__label sk-toggleable__label-arrow\">LogisticRegression</label><div class=\"sk-toggleable__content\"><pre>LogisticRegression()</pre></div></div></div></div></div>"
            ]
          },
          "metadata": {},
          "execution_count": 63
        }
      ]
    },
    {
      "cell_type": "code",
      "source": [
        "y_pred = lr.predict(x_test_tfidf)\n",
        "accuracy_score(y_test,y_pred)"
      ],
      "metadata": {
        "colab": {
          "base_uri": "https://localhost:8080/"
        },
        "id": "xG4LJp_DKCGY",
        "outputId": "dda8d6f4-8270-468b-e4af-c1c96ebbf170"
      },
      "execution_count": 64,
      "outputs": [
        {
          "output_type": "execute_result",
          "data": {
            "text/plain": [
              "0.7512"
            ]
          },
          "metadata": {},
          "execution_count": 64
        }
      ]
    },
    {
      "cell_type": "markdown",
      "source": [
        "**Random Forest Classifier**"
      ],
      "metadata": {
        "id": "VOTDJFZQKN0S"
      }
    },
    {
      "cell_type": "code",
      "source": [
        "## Using BOW"
      ],
      "metadata": {
        "id": "Wpqjka_CKCJn"
      },
      "execution_count": 65,
      "outputs": []
    },
    {
      "cell_type": "code",
      "source": [
        "from sklearn.ensemble import RandomForestClassifier\n",
        "rf = RandomForestClassifier()\n",
        "rf.fit(x_train_bow,y_train)\n",
        "y_pred = rf.predict(x_test_bow)\n",
        "accuracy_score(y_test,y_pred)\n"
      ],
      "metadata": {
        "colab": {
          "base_uri": "https://localhost:8080/"
        },
        "id": "v10HeYsiKCNA",
        "outputId": "d2f2c2b2-b91f-4045-a4fa-4b2e199e97fc"
      },
      "execution_count": 66,
      "outputs": [
        {
          "output_type": "execute_result",
          "data": {
            "text/plain": [
              "0.7272"
            ]
          },
          "metadata": {},
          "execution_count": 66
        }
      ]
    },
    {
      "cell_type": "code",
      "source": [
        "## Using TF-IDF"
      ],
      "metadata": {
        "id": "hnWHozhiKfsB"
      },
      "execution_count": null,
      "outputs": []
    },
    {
      "cell_type": "code",
      "source": [
        "rf = RandomForestClassifier()\n",
        "\n",
        "rf.fit(x_train_tfidf,y_train)\n",
        "y_pred = rf.predict(x_test_tfidf)\n",
        "accuracy_score(y_test,y_pred)"
      ],
      "metadata": {
        "colab": {
          "base_uri": "https://localhost:8080/"
        },
        "id": "UgCmpZbOKfut",
        "outputId": "1bc8c426-7171-4002-a063-d8ff6cd4abe6"
      },
      "execution_count": 67,
      "outputs": [
        {
          "output_type": "execute_result",
          "data": {
            "text/plain": [
              "0.7354"
            ]
          },
          "metadata": {},
          "execution_count": 67
        }
      ]
    },
    {
      "cell_type": "markdown",
      "source": [
        "**GaussianNB**"
      ],
      "metadata": {
        "id": "PrLHAuzyLF4H"
      }
    },
    {
      "cell_type": "code",
      "source": [
        "#Gaussian Naive Bayes algorithm\n",
        "from sklearn.naive_bayes import GaussianNB\n",
        "from sklearn.metrics import accuracy_score,confusion_matrix\n",
        "\n",
        "gnb = GaussianNB()\n",
        "\n",
        "gnb.fit(x_train_bow,y_train)\n",
        "\n",
        "y_pred = gnb.predict(x_test_bow)\n",
        "\n",
        "accuracy_score(y_test,y_pred)"
      ],
      "metadata": {
        "colab": {
          "base_uri": "https://localhost:8080/"
        },
        "id": "BVqhaJkgLHKm",
        "outputId": "e7037914-6b97-4fa4-ab76-85f91cbed247"
      },
      "execution_count": 68,
      "outputs": [
        {
          "output_type": "execute_result",
          "data": {
            "text/plain": [
              "0.7024"
            ]
          },
          "metadata": {},
          "execution_count": 68
        }
      ]
    },
    {
      "cell_type": "code",
      "source": [
        "## Using TF-IDF"
      ],
      "metadata": {
        "id": "M8PfMxZeLHUl"
      },
      "execution_count": 69,
      "outputs": []
    },
    {
      "cell_type": "code",
      "source": [
        "gnb = GaussianNB()\n",
        "\n",
        "gnb.fit(x_train_tfidf,y_train)\n",
        "\n",
        "y_pred = gnb.predict(x_test_tfidf)\n",
        "\n",
        "accuracy_score(y_test,y_pred)"
      ],
      "metadata": {
        "colab": {
          "base_uri": "https://localhost:8080/"
        },
        "id": "EnGZjWnaLHXs",
        "outputId": "9d9851be-106b-4f71-ad15-cbfa0524ea4b"
      },
      "execution_count": 70,
      "outputs": [
        {
          "output_type": "execute_result",
          "data": {
            "text/plain": [
              "0.7338"
            ]
          },
          "metadata": {},
          "execution_count": 70
        }
      ]
    },
    {
      "cell_type": "code",
      "source": [
        "## With max features = 10000"
      ],
      "metadata": {
        "id": "tFqvbsJTLHas"
      },
      "execution_count": 71,
      "outputs": []
    },
    {
      "cell_type": "code",
      "source": [
        "cv = CountVectorizer(max_features=10000)\n",
        "\n",
        "x_train_bow = cv.fit_transform(x_train).toarray()\n",
        "x_test_bow = cv.transform(x_test).toarray()\n",
        "\n",
        "\n",
        "lr= LogisticRegression()\n",
        "\n",
        "lr.fit(x_train_bow,y_train)\n",
        "y_pred = lr.predict(x_test_bow)\n",
        "accuracy_score(y_test,y_pred)"
      ],
      "metadata": {
        "colab": {
          "base_uri": "https://localhost:8080/"
        },
        "id": "FPO1oPpgLmH0",
        "outputId": "ca879e59-25a0-4079-8dc9-e25019ea9079"
      },
      "execution_count": 72,
      "outputs": [
        {
          "output_type": "stream",
          "name": "stderr",
          "text": [
            "/usr/local/lib/python3.10/dist-packages/sklearn/linear_model/_logistic.py:458: ConvergenceWarning: lbfgs failed to converge (status=1):\n",
            "STOP: TOTAL NO. of ITERATIONS REACHED LIMIT.\n",
            "\n",
            "Increase the number of iterations (max_iter) or scale the data as shown in:\n",
            "    https://scikit-learn.org/stable/modules/preprocessing.html\n",
            "Please also refer to the documentation for alternative solver options:\n",
            "    https://scikit-learn.org/stable/modules/linear_model.html#logistic-regression\n",
            "  n_iter_i = _check_optimize_result(\n"
          ]
        },
        {
          "output_type": "execute_result",
          "data": {
            "text/plain": [
              "0.8678"
            ]
          },
          "metadata": {},
          "execution_count": 72
        }
      ]
    },
    {
      "cell_type": "code",
      "source": [
        "tfidfvec = TfidfVectorizer(max_features=10000)\n",
        "\n",
        "x_train_tfidf = tfidfvec.fit_transform(x_train).toarray()\n",
        "x_test_tfidf = tfidfvec.transform(x_test).toarray()\n",
        "\n",
        "lr= LogisticRegression()\n",
        "\n",
        "lr.fit(x_train_tfidf,y_train)\n",
        "y_pred = lr.predict(x_test_tfidf)\n",
        "accuracy_score(y_test,y_pred)"
      ],
      "metadata": {
        "colab": {
          "base_uri": "https://localhost:8080/"
        },
        "id": "Zx3Jq12GLxyO",
        "outputId": "26d9e3ef-9cc2-495a-b9a0-587451e84c43"
      },
      "execution_count": 74,
      "outputs": [
        {
          "output_type": "execute_result",
          "data": {
            "text/plain": [
              "0.8852"
            ]
          },
          "metadata": {},
          "execution_count": 74
        }
      ]
    },
    {
      "cell_type": "code",
      "source": [
        "#max features as 10000, we got accuracy for logistic regression model as 88.52%"
      ],
      "metadata": {
        "id": "-ZX8GsGoPp-U"
      },
      "execution_count": null,
      "outputs": []
    },
    {
      "cell_type": "code",
      "source": [
        "from sklearn.metrics import accuracy_score, recall_score, f1_score, confusion_matrix, classification_report\n",
        "\n",
        "print('The accuracy score is: ', accuracy_score(y_test,y_pred))\n"
      ],
      "metadata": {
        "colab": {
          "base_uri": "https://localhost:8080/"
        },
        "id": "dppiUT1EL3OU",
        "outputId": "a644bf19-823c-4730-8d44-bb88d3aa1b70"
      },
      "execution_count": 75,
      "outputs": [
        {
          "output_type": "stream",
          "name": "stdout",
          "text": [
            "The accuracy score is:  0.8852\n"
          ]
        }
      ]
    },
    {
      "cell_type": "code",
      "source": [
        "recall_score(y_test,y_pred)"
      ],
      "metadata": {
        "colab": {
          "base_uri": "https://localhost:8080/"
        },
        "id": "tp7SvE8KL3Rc",
        "outputId": "7b6deefa-2c56-4e52-972c-f4c20e6fe7e2"
      },
      "execution_count": 76,
      "outputs": [
        {
          "output_type": "execute_result",
          "data": {
            "text/plain": [
              "0.8951965065502183"
            ]
          },
          "metadata": {},
          "execution_count": 76
        }
      ]
    },
    {
      "cell_type": "code",
      "source": [
        "f1_score(y_test,y_pred)"
      ],
      "metadata": {
        "colab": {
          "base_uri": "https://localhost:8080/"
        },
        "id": "PWJBYpfPL-ei",
        "outputId": "3fa0d44f-4acc-4953-8e61-9fe2244fea1e"
      },
      "execution_count": 77,
      "outputs": [
        {
          "output_type": "execute_result",
          "data": {
            "text/plain": [
              "0.8870967741935484"
            ]
          },
          "metadata": {},
          "execution_count": 77
        }
      ]
    },
    {
      "cell_type": "code",
      "source": [
        "confusion_matrix(y_test,y_pred)"
      ],
      "metadata": {
        "colab": {
          "base_uri": "https://localhost:8080/"
        },
        "id": "R50yRz0FL-mb",
        "outputId": "a731ddba-064f-4158-cacd-fa7fc53a4a15"
      },
      "execution_count": 78,
      "outputs": [
        {
          "output_type": "execute_result",
          "data": {
            "text/plain": [
              "array([[2171,  310],\n",
              "       [ 264, 2255]])"
            ]
          },
          "metadata": {},
          "execution_count": 78
        }
      ]
    },
    {
      "cell_type": "code",
      "source": [
        "print(classification_report(y_test,y_pred))"
      ],
      "metadata": {
        "colab": {
          "base_uri": "https://localhost:8080/"
        },
        "id": "uAqJimJRMHlu",
        "outputId": "74c810a7-e05e-45c7-c80d-1eca69015bee"
      },
      "execution_count": 79,
      "outputs": [
        {
          "output_type": "stream",
          "name": "stdout",
          "text": [
            "              precision    recall  f1-score   support\n",
            "\n",
            "           0       0.89      0.88      0.88      2481\n",
            "           1       0.88      0.90      0.89      2519\n",
            "\n",
            "    accuracy                           0.89      5000\n",
            "   macro avg       0.89      0.89      0.89      5000\n",
            "weighted avg       0.89      0.89      0.89      5000\n",
            "\n"
          ]
        }
      ]
    },
    {
      "cell_type": "code",
      "source": [],
      "metadata": {
        "id": "XO_liVPSPWWH"
      },
      "execution_count": null,
      "outputs": []
    }
  ]
}